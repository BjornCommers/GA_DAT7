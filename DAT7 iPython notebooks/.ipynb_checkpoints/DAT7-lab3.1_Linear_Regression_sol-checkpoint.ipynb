{
 "metadata": {
  "name": "",
  "signature": "sha256:31a2f862874d0ca5fa6ccaa5a72e1ca854504609392f18fd0a766a50e9e4be02"
 },
 "nbformat": 3,
 "nbformat_minor": 0,
 "worksheets": [
  {
   "cells": [
    {
     "cell_type": "markdown",
     "metadata": {},
     "source": [
      "# GA Data Science 7 (DAT7) - Lab3.1\n",
      "\n",
      "### Regressions"
     ]
    },
    {
     "cell_type": "code",
     "collapsed": false,
     "input": [
      "#usual imports\n",
      "import numpy as np\n",
      "import matplotlib.pyplot as plt\n",
      "import pandas as pd\n",
      "%matplotlib inline\n",
      "\n",
      "# Statsmodel APIs\n",
      "import statsmodels.api as sm"
     ],
     "language": "python",
     "metadata": {},
     "outputs": []
    },
    {
     "cell_type": "markdown",
     "metadata": {},
     "source": [
      "## Linear Regression"
     ]
    },
    {
     "cell_type": "markdown",
     "metadata": {},
     "source": [
      "Load a subset of the housing data"
     ]
    },
    {
     "cell_type": "code",
     "collapsed": false,
     "input": [
      "data = pd.read_csv('data/houses.csv')"
     ],
     "language": "python",
     "metadata": {},
     "outputs": []
    },
    {
     "cell_type": "code",
     "collapsed": false,
     "input": [
      "data.head()"
     ],
     "language": "python",
     "metadata": {},
     "outputs": []
    },
    {
     "cell_type": "code",
     "collapsed": false,
     "input": [
      "data_n = pd.read_csv('data/houses_norm.csv')"
     ],
     "language": "python",
     "metadata": {},
     "outputs": []
    },
    {
     "cell_type": "markdown",
     "metadata": {},
     "source": [
      "The dataset contains 4 columns. Our objective is to build a model that is able to predict the price of a house, using the information contained in the other columns (sqft, bedrooms and age)"
     ]
    },
    {
     "cell_type": "code",
     "collapsed": false,
     "input": [
      "from pandas.tools.plotting import scatter_matrix\n",
      "scat = scatter_matrix(data, figsize = (14,14))"
     ],
     "language": "python",
     "metadata": {},
     "outputs": []
    },
    {
     "cell_type": "markdown",
     "metadata": {},
     "source": [
      "Run 1. x = sqft, data is raw (so graph units are nice right)"
     ]
    },
    {
     "cell_type": "markdown",
     "metadata": {},
     "source": [
      "Let''s start with a simple model that uses the house surface to estimate the price"
     ]
    },
    {
     "cell_type": "code",
     "collapsed": false,
     "input": [
      "x = data['sqft'].values\n",
      "y = data['price'].values"
     ],
     "language": "python",
     "metadata": {},
     "outputs": []
    },
    {
     "cell_type": "code",
     "collapsed": false,
     "input": [
      "X = sm.add_constant(x, prepend=True)"
     ],
     "language": "python",
     "metadata": {},
     "outputs": []
    },
    {
     "cell_type": "code",
     "collapsed": false,
     "input": [
      "# run an ordinary least squares\n",
      "results = sm.OLS(y, X).fit()\n",
      "intercept, slope = results.params\n",
      "\n",
      "r2 = results.rsquared\n",
      "\n",
      "plt.plot(x, y, 'bo')\n",
      "plt.title(\"Price VS Sqft\")\n",
      "xl = np.array([min(x), max(x)])\n",
      "yl = intercept + slope * xl\n",
      "plt.plot(xl, yl, 'r-')\n"
     ],
     "language": "python",
     "metadata": {},
     "outputs": []
    },
    {
     "cell_type": "code",
     "collapsed": false,
     "input": [
      "results.summary()"
     ],
     "language": "python",
     "metadata": {},
     "outputs": []
    },
    {
     "cell_type": "markdown",
     "metadata": {},
     "source": [
      "Run 2:  x = sqft, data is normalized (so summary stats are nice)"
     ]
    },
    {
     "cell_type": "code",
     "collapsed": false,
     "input": [
      "data_n.head()"
     ],
     "language": "python",
     "metadata": {},
     "outputs": []
    },
    {
     "cell_type": "code",
     "collapsed": false,
     "input": [
      "x = data_n['sqft'].values\n",
      "y = data_n['price'].values\n",
      "\n",
      "X = sm.add_constant(x, prepend=True)\n",
      "results = sm.OLS(y, X).fit()\n",
      "intercept, slope = results.params\n",
      "r2 = results.rsquared\n",
      "plt.plot(x, y, 'bo')\n",
      "xl = np.array([min(x), max(x)])\n",
      "yl = intercept + slope * xl\n",
      "plt.plot(xl, yl, 'r-')\n",
      "plt.show()"
     ],
     "language": "python",
     "metadata": {},
     "outputs": []
    },
    {
     "cell_type": "code",
     "collapsed": false,
     "input": [
      "results.summary()"
     ],
     "language": "python",
     "metadata": {},
     "outputs": []
    },
    {
     "cell_type": "markdown",
     "metadata": {},
     "source": [
      "Confidence Intervals"
     ]
    },
    {
     "cell_type": "code",
     "collapsed": false,
     "input": [
      "from statsmodels.sandbox.regression.predstd import wls_prediction_std\n",
      "\n",
      "prstd, iv_l, iv_u = wls_prediction_std(results)"
     ],
     "language": "python",
     "metadata": {},
     "outputs": []
    },
    {
     "cell_type": "code",
     "collapsed": false,
     "input": [
      "fig, ax = plt.subplots(figsize=(8,6))\n",
      "\n",
      "ax.plot(x, y, 'o', label=\"data\")\n",
      "ax.plot(x, results.fittedvalues, 'r-', label=\"OLS\")\n",
      "ax.plot(x, iv_u, 'r-')\n",
      "ax.plot(x, iv_l, 'r-')\n",
      "ax.legend(loc='best');\n",
      "\n",
      "# ax.plot(x, y, 'o', label=\"data\",\n",
      "#         x, results.fittedvalues, 'r-', label=\"OLS\",\n",
      "#         x, iv_u, 'r-',\n",
      "#         x, iv_l, 'r-')\n",
      "# ax.legend(loc='best');"
     ],
     "language": "python",
     "metadata": {},
     "outputs": []
    },
    {
     "cell_type": "markdown",
     "metadata": {},
     "source": [
      "## Function of Bedrooms?"
     ]
    },
    {
     "cell_type": "markdown",
     "metadata": {},
     "source": [
      "Run 3:  x = bdrms, data is raw (so graph units are nice)"
     ]
    },
    {
     "cell_type": "code",
     "collapsed": false,
     "input": [
      "x = data['bedrooms'].values\n",
      "y = data['price'].values\n",
      "\n",
      "X = sm.add_constant(x, prepend=True)\n",
      "results = sm.OLS(y, X).fit()\n",
      "intercept, slope = results.params\n",
      "r2 = results.rsquared\n",
      "plt.plot(x, y, 'bo')\n",
      "xl = np.array([min(x), max(x)])\n",
      "yl = intercept + slope * xl\n",
      "plt.plot(xl, yl, 'r-')\n",
      "plt.title(r2)\n",
      "plt.show()"
     ],
     "language": "python",
     "metadata": {},
     "outputs": []
    },
    {
     "cell_type": "code",
     "collapsed": false,
     "input": [
      "results.summary()"
     ],
     "language": "python",
     "metadata": {},
     "outputs": []
    },
    {
     "cell_type": "code",
     "collapsed": false,
     "input": [
      "x = data_n['bedrooms'].values\n",
      "y = data_n['price'].values\n",
      "\n",
      "X = sm.add_constant(x, prepend=True)\n",
      "results = sm.OLS(y, X).fit()\n",
      "intercept, slope = results.params\n",
      "r2 = results.rsquared\n",
      "plt.plot(x, y, 'bo')\n",
      "xl = np.array([min(x), max(x)])\n",
      "yl = intercept + slope * xl\n",
      "plt.plot(xl, yl, 'r-')\n",
      "plt.show()"
     ],
     "language": "python",
     "metadata": {},
     "outputs": []
    },
    {
     "cell_type": "code",
     "collapsed": false,
     "input": [
      "results.summary()"
     ],
     "language": "python",
     "metadata": {},
     "outputs": []
    },
    {
     "cell_type": "markdown",
     "metadata": {},
     "source": [
      "## Function of Age?"
     ]
    },
    {
     "cell_type": "code",
     "collapsed": false,
     "input": [
      "x = data['age'].values\n",
      "y = data['price'].values\n",
      "\n",
      "X = sm.add_constant(x, prepend=True)\n",
      "results = sm.OLS(y, X).fit()\n",
      "intercept, slope = results.params\n",
      "r2 = results.rsquared\n",
      "plt.plot(x, y, 'bo')\n",
      "xl = np.array([min(x), max(x)])\n",
      "yl = intercept + slope * xl\n",
      "plt.plot(xl, yl, 'r-')\n",
      "plt.title(r2)\n",
      "plt.show()"
     ],
     "language": "python",
     "metadata": {},
     "outputs": []
    },
    {
     "cell_type": "code",
     "collapsed": false,
     "input": [
      "results.summary()"
     ],
     "language": "python",
     "metadata": {},
     "outputs": []
    },
    {
     "cell_type": "code",
     "collapsed": false,
     "input": [
      "x = data_n['age'].values\n",
      "y = data_n['price'].values \n",
      "\n",
      "X = sm.add_constant(x, prepend=True)\n",
      "results = sm.OLS(y, X).fit()\n",
      "intercept, slope = results.params\n",
      "r2 = results.rsquared\n",
      "plt.plot(x, y, 'bo')\n",
      "xl = np.array([min(x), max(x)])\n",
      "yl = intercept + slope * xl\n",
      "plt.plot(xl, yl, 'r-')\n",
      "plt.show()"
     ],
     "language": "python",
     "metadata": {},
     "outputs": []
    },
    {
     "cell_type": "code",
     "collapsed": false,
     "input": [
      "results.summary()"
     ],
     "language": "python",
     "metadata": {},
     "outputs": []
    },
    {
     "cell_type": "markdown",
     "metadata": {},
     "source": [
      "## Function of multiple variables"
     ]
    },
    {
     "cell_type": "code",
     "collapsed": false,
     "input": [
      "x = data_n[['sqft', 'bedrooms','age']].values\n",
      "y = data_n['price'].values\n",
      "\n",
      "X = sm.add_constant(x, prepend=True)\n",
      "results = sm.OLS(y, X).fit()"
     ],
     "language": "python",
     "metadata": {},
     "outputs": []
    },
    {
     "cell_type": "code",
     "collapsed": false,
     "input": [
      "results.summary()"
     ],
     "language": "python",
     "metadata": {},
     "outputs": []
    },
    {
     "cell_type": "markdown",
     "metadata": {},
     "source": [
      "## 3D Plot"
     ]
    },
    {
     "cell_type": "code",
     "collapsed": false,
     "input": [
      "# 3d plot\n",
      "from mpl_toolkits.mplot3d import Axes3D\n",
      "\n",
      "x = data[['sqft', 'bedrooms','age']].values\n",
      "y = data['price'].values\n",
      "\n",
      "fignum = 1\n",
      "fig = plt.figure(fignum, figsize=(8, 6))\n",
      "plt.clf()\n",
      "ax = Axes3D(fig, rect=[0, 0, .95, 1], elev=38, azim=124)\n",
      "\n",
      "plt.cla()\n",
      "X = sm.add_constant(x, prepend=True)\n",
      "results = sm.OLS(y, X).fit()\n",
      "\n",
      "# est.fit(X)\n",
      "# ax.scatter(X[:, 0], X[:, 1], X[:, 3], c=labels.astype(np.float))\n",
      "ax.scatter(X[:, 1], X[:, 0], X[:, 3])\n",
      "\n",
      "ax.w_xaxis.set_ticklabels([])\n",
      "ax.w_yaxis.set_ticklabels([])\n",
      "ax.w_zaxis.set_ticklabels([])\n",
      "ax.set_ylabel('Sqft')\n",
      "ax.set_xlabel('Bedrooms')\n",
      "ax.set_zlabel('Price')\n",
      "plt.show()"
     ],
     "language": "python",
     "metadata": {},
     "outputs": []
    },
    {
     "cell_type": "markdown",
     "metadata": {},
     "source": [
      "## Just sqft & bedrooms"
     ]
    },
    {
     "cell_type": "code",
     "collapsed": false,
     "input": [
      "x = data_n[['sqft', 'bedrooms']].values\n",
      "y = data_n['price'].values\n",
      "X = sm.add_constant(x, prepend=True)\n",
      "results = sm.OLS(y, X).fit()\n",
      "results.summary()"
     ],
     "language": "python",
     "metadata": {},
     "outputs": []
    },
    {
     "cell_type": "markdown",
     "metadata": {},
     "source": [
      "## The formula API"
     ]
    },
    {
     "cell_type": "code",
     "collapsed": false,
     "input": [
      "import statsmodels.formula.api as smf"
     ],
     "language": "python",
     "metadata": {},
     "outputs": []
    },
    {
     "cell_type": "code",
     "collapsed": false,
     "input": [
      "results = smf.ols('price ~ sqft + bedrooms', data=data).fit()"
     ],
     "language": "python",
     "metadata": {},
     "outputs": []
    },
    {
     "cell_type": "code",
     "collapsed": false,
     "input": [
      "results.summary()"
     ],
     "language": "python",
     "metadata": {},
     "outputs": []
    },
    {
     "cell_type": "markdown",
     "metadata": {},
     "source": [
      "## Nonlinear Fitting"
     ]
    },
    {
     "cell_type": "markdown",
     "metadata": {},
     "source": [
      "Let's generate points with an arbitrary nonlinear function"
     ]
    },
    {
     "cell_type": "markdown",
     "metadata": {},
     "source": [
      "$y = \\frac{1}{2} x + \\frac{1}{2} \\sin{x} - \\frac{1}{50} (x-5)^2 + 5$"
     ]
    },
    {
     "cell_type": "code",
     "collapsed": false,
     "input": [
      "# start with some fake data\n",
      "nsample = 50\n",
      "sig = 0.5\n",
      "# generate linear space\n",
      "x = np.linspace(0, 20, nsample)\n",
      "# invent function\n",
      "X = np.c_[x, np.sin(x), (x - 5)**2, np.ones(nsample)]\n",
      "# invent coefficients\n",
      "beta = [0.5, 0.5, -0.02, 5.]\n",
      "# generate \n",
      "y_true = np.dot(X, beta)\n",
      "# add noise\n",
      "y = y_true + sig * np.random.normal(size=nsample)"
     ],
     "language": "python",
     "metadata": {},
     "outputs": []
    },
    {
     "cell_type": "markdown",
     "metadata": {},
     "source": [
      "quick look at the data"
     ]
    },
    {
     "cell_type": "code",
     "collapsed": false,
     "input": [
      "# nice! ipython shortcuts!\n",
      "plt.plot(x, y_true)\n",
      "plt.scatter(x, y, c='g')\n",
      "plt.show()"
     ],
     "language": "python",
     "metadata": {},
     "outputs": []
    },
    {
     "cell_type": "code",
     "collapsed": false,
     "input": [
      "res = sm.OLS(y, X).fit()\n",
      "res.summary()"
     ],
     "language": "python",
     "metadata": {},
     "outputs": []
    },
    {
     "cell_type": "markdown",
     "metadata": {},
     "source": [
      "I can access the results attributes"
     ]
    },
    {
     "cell_type": "code",
     "collapsed": false,
     "input": [
      "print res.params"
     ],
     "language": "python",
     "metadata": {},
     "outputs": []
    },
    {
     "cell_type": "code",
     "collapsed": false,
     "input": [
      "print \n",
      "res.bse"
     ],
     "language": "python",
     "metadata": {},
     "outputs": []
    },
    {
     "cell_type": "code",
     "collapsed": false,
     "input": [
      "print res.predict()"
     ],
     "language": "python",
     "metadata": {},
     "outputs": []
    },
    {
     "cell_type": "markdown",
     "metadata": {},
     "source": [
      "Let's look at the fit!"
     ]
    },
    {
     "cell_type": "code",
     "collapsed": false,
     "input": [
      "plt.figure(figsize = (10,10));\n",
      "plt.plot(x, y, 'o', x, y_true, 'b-');\n",
      "prstd, iv_l, iv_u = wls_prediction_std(res);\n",
      "plt.plot(x, res.fittedvalues, 'r--.');\n",
      "plt.plot(x, iv_u, 'r--');\n",
      "plt.plot(x, iv_l, 'r--');\n",
      "plt.title('blue: true,   red: OLS');"
     ],
     "language": "python",
     "metadata": {},
     "outputs": []
    },
    {
     "cell_type": "markdown",
     "metadata": {},
     "source": [
      "## Overfitting"
     ]
    },
    {
     "cell_type": "code",
     "collapsed": false,
     "input": [
      "x = np.array([-0.99768, -0.69574, -0.40373, -0.10236, 0.22024, 0.47742, 0.82229])\n",
      "y = np.array([2.0885, 1.1646, 0.3287, 0.46013, 0.44808, 0.10013, -0.32952])\n",
      "\n",
      "fig, ax = plt.subplots(figsize = (8,6))\n",
      "ax.plot(x, y, 'o', markersize=12)\n",
      "plt.xlim((-1.3, 1.3))"
     ],
     "language": "python",
     "metadata": {},
     "outputs": []
    },
    {
     "cell_type": "code",
     "collapsed": false,
     "input": [
      "X = np.c_[x, np.ones(len(x))]\n",
      "#X = np.vander(x, 1+1)"
     ],
     "language": "python",
     "metadata": {},
     "outputs": []
    },
    {
     "cell_type": "code",
     "collapsed": false,
     "input": [
      "res = sm.OLS(y, X).fit()\n",
      "res.summary()"
     ],
     "language": "python",
     "metadata": {},
     "outputs": []
    },
    {
     "cell_type": "markdown",
     "metadata": {},
     "source": [
      "### Linear fit"
     ]
    },
    {
     "cell_type": "code",
     "collapsed": false,
     "input": [
      "plt.figure(figsize = (6,6));\n",
      "plt.plot(x, y, 'o');\n",
      "xx = np.linspace(-1.25,1.25,100)\n",
      "plt.plot(xx, res.predict(np.vander(xx,2)), 'r-');\n",
      "plt.title('blue: true,   red: OLS');"
     ],
     "language": "python",
     "metadata": {},
     "outputs": []
    },
    {
     "cell_type": "markdown",
     "metadata": {},
     "source": [
      "### Quadratic"
     ]
    },
    {
     "cell_type": "code",
     "collapsed": false,
     "input": [
      "X = np.c_[x**2, x, np.ones(len(x))]\n",
      "res = sm.OLS(y, X).fit()\n",
      "\n",
      "plt.figure(figsize = (6,6));\n",
      "plt.plot(x, y, 'o');\n",
      "xx = np.linspace(-1.25,1.25,100)\n",
      "plt.plot(xx, res.predict(np.vander(xx,3)), 'r-');\n",
      "plt.title('blue: true,   red: OLS');"
     ],
     "language": "python",
     "metadata": {},
     "outputs": []
    },
    {
     "cell_type": "markdown",
     "metadata": {},
     "source": [
      "### Quintic"
     ]
    },
    {
     "cell_type": "code",
     "collapsed": false,
     "input": [
      "X = np.c_[x**5, x**4, x**3, x**2, x, np.ones(len(x))]\n",
      "res = sm.OLS(y, X).fit()\n",
      "\n",
      "plt.figure(figsize = (6,6));\n",
      "plt.plot(x, y, 'o');\n",
      "xx = np.linspace(-1.25,1.1,100)\n",
      "plt.plot(xx, res.predict(np.vander(xx,6)), 'r-');\n",
      "plt.title('blue: true,   red: OLS');"
     ],
     "language": "python",
     "metadata": {},
     "outputs": []
    },
    {
     "cell_type": "markdown",
     "metadata": {},
     "source": [
      "## Regularization"
     ]
    },
    {
     "cell_type": "code",
     "collapsed": false,
     "input": [
      "from sklearn.linear_model import Ridge, Lasso"
     ],
     "language": "python",
     "metadata": {},
     "outputs": []
    },
    {
     "cell_type": "code",
     "collapsed": false,
     "input": [
      "ridge = Ridge(alpha = 1.)\n",
      "ridge.fit(np.vander(x, 6), y)\n",
      "\n",
      "lasso = Lasso(alpha = 0.1)\n",
      "lasso.fit(np.vander(x, 6), y)\n",
      "\n",
      "plt.figure(figsize = (6,6));\n",
      "plt.plot(x, y, 'o');\n",
      "xx = np.linspace(-1.25,1.1,100)\n",
      "plt.plot(xx, res.predict(np.vander(xx,6)), 'r-');\n",
      "plt.plot(xx,  ridge.predict(np.vander(xx, 6)), 'g-', label='Ridge');\n",
      "plt.plot(xx,  lasso.predict(np.vander(xx, 6)), 'c-', label='Lasso');\n",
      "plt.legend(loc='best')"
     ],
     "language": "python",
     "metadata": {},
     "outputs": []
    }
   ],
   "metadata": {}
  }
 ]
}