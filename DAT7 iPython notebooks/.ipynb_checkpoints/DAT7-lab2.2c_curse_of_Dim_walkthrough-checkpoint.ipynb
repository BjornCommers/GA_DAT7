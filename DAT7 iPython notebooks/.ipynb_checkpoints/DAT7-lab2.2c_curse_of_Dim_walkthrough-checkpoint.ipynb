{
 "metadata": {
  "name": "",
  "signature": "sha256:ab9161d04c13dd4f009aeee94bfdc99b6d6620f66e4c475d2061fbb0ac165098"
 },
 "nbformat": 3,
 "nbformat_minor": 0,
 "worksheets": [
  {
   "cells": [
    {
     "cell_type": "markdown",
     "metadata": {},
     "source": [
      "## Curse of dimensionality walkthrough\n",
      "This notebook will help to develop intuitions about a phenomena called the \"curse of dimensionality\"\n",
      "- As dimension number increases, traditional intuitions about \"closeness\" and \"volume\" associated with 1, 2, and 3 dimensions tend to break down\n",
      "- One way to think of this is that as dimensionality increases, distances functions seem to lose their ability to distinguish closeness.  \n",
      "\t- The practical effect of this is that the distances between sample points seem to all become equally far apart as dimension increases.\n",
      "- A second practical result of the curse of dimensionality is that for high dimension, \"most of the volume\" of a high dimensional figure (e.g. a hyper-cube) will be located at the margins.\n",
      "- Specifically, in this exercise, we will walk through a sequence of \"hyper-cubes\" of increasing dimensionality, removing a doughnut hole with 90% of the length.\n",
      "\t- We will see that even though we are removing doughnut holes that have 90% of the edge length, as **d** grows large, most of the volume will lie in the margins."
     ]
    },
    {
     "cell_type": "code",
     "collapsed": false,
     "input": [
      "# prep material\n",
      "%matplotlib inline\n",
      "import matplotlib.pyplot as plt"
     ],
     "language": "python",
     "metadata": {},
     "outputs": []
    },
    {
     "cell_type": "markdown",
     "metadata": {},
     "source": [
      "### 1-dim case\n",
      "- We begin with a 1-unit hypercube in 1 dimension (i.e a line), and then remove a .9 length segment in the middle.\n"
     ]
    },
    {
     "cell_type": "code",
     "collapsed": false,
     "input": [
      "# set the dimension and edge length\n",
      "d = 1\n",
      "edgeLen = 1\n",
      "marginRatio = .1\n",
      "\n",
      "TotVolume = edgeLen**d \n",
      "\n",
      "HoleLen = edgeLen*(1-marginRatio)\n",
      "\n",
      "HoleVolume = HoleLen**d \n",
      "\n",
      "print \"When dimension = \" + str(d) + \" and the margins are \" + str(marginRatio*100) + \"% of the total edge length:\" \n",
      "print \"   Total volume = \" + str(TotVolume)\n",
      "print \"   Hole volume = \" + str(HoleVolume)\n",
      "print \"   So as a ratio this means \" + str(100*(TotVolume - HoleVolume)/TotVolume) + \"% of the volume is in the margins.\""
     ],
     "language": "python",
     "metadata": {},
     "outputs": []
    },
    {
     "cell_type": "markdown",
     "metadata": {},
     "source": [
      "### Generalize for d > 1\n",
      "Lets build a custom function to do this for arbitrary of dimensions"
     ]
    },
    {
     "cell_type": "code",
     "collapsed": false,
     "input": [
      "def hyperMarginRatio(d = 1, marginRatio = .1, edgeLen = 1):\n",
      "    TotVolume = edgeLen**d \n",
      "\n",
      "    HoleLen = edgeLen*(1-marginRatio)\n",
      "    HoleVolume = HoleLen**d \n",
      "\n",
      "    marginRatio = (TotVolume - HoleVolume)/TotVolume\n",
      "    \n",
      "    print \"When dimension = \" + str(d) + \" and the margins are \" + str(marginRatio*100) + \"% of the total edge length:\" \n",
      "    print \"   Total volume = \" + str(TotVolume)\n",
      "    print \"   Hole volume = \" + str(HoleVolume)\n",
      "    print \"   So as a ratio,\"\n",
      "    print str(100*marginRatio) + \"% of the volume is in the margins.\"\n",
      "    print \"\"\n",
      "    return marginRatio\n",
      "    \n",
      "    "
     ],
     "language": "python",
     "metadata": {},
     "outputs": []
    },
    {
     "cell_type": "markdown",
     "metadata": {},
     "source": [
      "### 2-dim case"
     ]
    },
    {
     "cell_type": "code",
     "collapsed": false,
     "input": [
      "d2 = hyperMarginRatio(d = 2)"
     ],
     "language": "python",
     "metadata": {},
     "outputs": []
    },
    {
     "cell_type": "markdown",
     "metadata": {},
     "source": [
      "### n-dim case\n",
      "\n",
      "So for the 2 dimension case, we see that around 19% is in the margins.\n",
      "Now lets loop through n = 1,2,3,... to see how this ratio increases with dimension number:\n"
     ]
    },
    {
     "cell_type": "code",
     "collapsed": false,
     "input": [
      "maxD = 50\n",
      "marginRatio = .10\n",
      "\n",
      "\n",
      "marginRatios = []\n",
      "X = range(1,maxD+1)\n",
      "\n",
      "for d in X:\n",
      "    appenders = round(hyperMarginRatio(d, marginRatio = marginRatio), 2)\n",
      "    marginRatios.append(appenders)\n",
      "\n",
      "print marginRatios"
     ],
     "language": "python",
     "metadata": {},
     "outputs": []
    },
    {
     "cell_type": "code",
     "collapsed": false,
     "input": [
      "plt.plot(X,marginRatios)\n",
      "plt.title('Ratio of margins volume as a function of dimension')"
     ],
     "language": "python",
     "metadata": {},
     "outputs": []
    },
    {
     "cell_type": "markdown",
     "metadata": {},
     "source": [
      "As we can see, when the margins are constructed by removing 90% of the edge length, \n",
      "- The majority of the volume remains in the margin region of the remainder of the hyper-cube for dimensionality over d = 6.\n",
      "- And over 99% of the volume remains in the 10% margin region for d > 44."
     ]
    },
    {
     "cell_type": "code",
     "collapsed": false,
     "input": [
      "### Exercise:\n",
      "# Develop your intuitions about high dimensional volumes by using our custom function for other edge margin values (e.g.  instead of .1 try .05, or .01\u2026) how does this effect the curve?\n"
     ],
     "language": "python",
     "metadata": {},
     "outputs": []
    }
   ],
   "metadata": {}
  }
 ]
}