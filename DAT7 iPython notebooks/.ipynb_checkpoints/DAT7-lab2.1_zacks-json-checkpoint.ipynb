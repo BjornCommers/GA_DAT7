{
 "metadata": {
  "celltoolbar": "Edit Metadata",
  "name": "",
  "signature": "sha256:cb8689428174af6ed172dcba8e85bbecc8240b9536e9793d416cfa8f0cf9fa72"
 },
 "nbformat": 3,
 "nbformat_minor": 0,
 "worksheets": [
  {
   "cells": [
    {
     "cell_type": "markdown",
     "metadata": {
      "slideshow": {
       "slide_type": "slide"
      }
     },
     "source": [
      "# GA Data Science 7 (DAT7) - Lab2.1"
     ]
    },
    {
     "cell_type": "markdown",
     "metadata": {
      "slideshow": {
       "slide_type": "slide"
      }
     },
     "source": [
      "Today we will be learning about the data file type called JSON, that is used alot with many companies API's\n",
      "- http://jsonviewer.stack.hu/\n",
      "- http://jsonlint.com/"
     ]
    },
    {
     "cell_type": "heading",
     "level": 1,
     "metadata": {
      "slideshow": {
       "slide_type": "slide"
      }
     },
     "source": [
      "1. JSON"
     ]
    },
    {
     "cell_type": "markdown",
     "metadata": {
      "slideshow": {
       "slide_type": "slide"
      }
     },
     "source": [
      "- What's Json? (and why do we care?)\n",
      "- http://www.reddit.com/.json"
     ]
    },
    {
     "cell_type": "code",
     "collapsed": false,
     "input": [
      "# load the homework data into a pandas dataset\n",
      "import pandas as pd\n",
      "data = pd.read_csv(\"data/titanic.csv\")"
     ],
     "language": "python",
     "metadata": {},
     "outputs": [],
     "prompt_number": 6
    },
    {
     "cell_type": "code",
     "collapsed": false,
     "input": [
      "# assign the first 5 rows to a variable called first\n",
      "first = data.head(5)"
     ],
     "language": "python",
     "metadata": {},
     "outputs": [],
     "prompt_number": 7
    },
    {
     "cell_type": "code",
     "collapsed": false,
     "input": [
      "import json\n",
      "# use the DataFrame method to_json to transform <first> into a json object\n",
      "first.to_json()\n",
      "# j = json.loads(j)\n",
      "# print type(j)\n",
      "# j = json.dumps(j)\n"
     ],
     "language": "python",
     "metadata": {},
     "outputs": [
      {
       "metadata": {},
       "output_type": "pyout",
       "prompt_number": 8,
       "text": [
        "'{\"survived\":{\"0\":0,\"1\":1,\"2\":1,\"3\":1,\"4\":0},\"pclass\":{\"0\":3,\"1\":1,\"2\":3,\"3\":1,\"4\":3},\"name\":{\"0\":\"Braund, Mr. Owen Harris\",\"1\":\"Cumings, Mrs. John Bradley (Florence Briggs Thayer)\",\"2\":\"Heikkinen, Miss. Laina\",\"3\":\"Futrelle, Mrs. Jacques Heath (Lily May Peel)\",\"4\":\"Allen, Mr. William Henry\"},\"sex\":{\"0\":\"male\",\"1\":\"female\",\"2\":\"female\",\"3\":\"female\",\"4\":\"male\"},\"age\":{\"0\":22.0,\"1\":38.0,\"2\":26.0,\"3\":35.0,\"4\":35.0},\"sibsp\":{\"0\":1,\"1\":1,\"2\":0,\"3\":1,\"4\":0},\"parch\":{\"0\":0,\"1\":0,\"2\":0,\"3\":0,\"4\":0},\"ticket\":{\"0\":\"A\\\\/5 21171\",\"1\":\"PC 17599\",\"2\":\"STON\\\\/O2. 3101282\",\"3\":\"113803\",\"4\":\"373450\"},\"fare\":{\"0\":7.25,\"1\":71.2833,\"2\":7.925,\"3\":53.1,\"4\":8.05},\"cabin\":{\"0\":null,\"1\":\"C85\",\"2\":null,\"3\":\"C123\",\"4\":null},\"embarked\":{\"0\":\"S\",\"1\":\"C\",\"2\":\"S\",\"3\":\"S\",\"4\":\"S\"}}'"
       ]
      }
     ],
     "prompt_number": 8
    },
    {
     "cell_type": "code",
     "collapsed": false,
     "input": [
      "# z = json.dumps({\"c\": 0, \"b\": 0, \"a\": 0}, sort_keys=True)\n",
      "\n"
     ],
     "language": "python",
     "metadata": {},
     "outputs": [],
     "prompt_number": 9
    },
    {
     "cell_type": "code",
     "collapsed": false,
     "input": [
      "# explore the different options in the to_json method\n",
      "first.to_json(orient = 'records')"
     ],
     "language": "python",
     "metadata": {},
     "outputs": [
      {
       "metadata": {},
       "output_type": "pyout",
       "prompt_number": 37,
       "text": [
        "'[{\"survived\":0,\"pclass\":3,\"name\":\"Braund, Mr. Owen Harris\",\"sex\":\"male\",\"age\":22.0,\"sibsp\":1,\"parch\":0,\"ticket\":\"A\\\\/5 21171\",\"fare\":7.25,\"cabin\":null,\"embarked\":\"S\"},{\"survived\":1,\"pclass\":1,\"name\":\"Cumings, Mrs. John Bradley (Florence Briggs Thayer)\",\"sex\":\"female\",\"age\":38.0,\"sibsp\":1,\"parch\":0,\"ticket\":\"PC 17599\",\"fare\":71.2833,\"cabin\":\"C85\",\"embarked\":\"C\"},{\"survived\":1,\"pclass\":3,\"name\":\"Heikkinen, Miss. Laina\",\"sex\":\"female\",\"age\":26.0,\"sibsp\":0,\"parch\":0,\"ticket\":\"STON\\\\/O2. 3101282\",\"fare\":7.925,\"cabin\":null,\"embarked\":\"S\"},{\"survived\":1,\"pclass\":1,\"name\":\"Futrelle, Mrs. Jacques Heath (Lily May Peel)\",\"sex\":\"female\",\"age\":35.0,\"sibsp\":1,\"parch\":0,\"ticket\":\"113803\",\"fare\":53.1,\"cabin\":\"C123\",\"embarked\":\"S\"},{\"survived\":0,\"pclass\":3,\"name\":\"Allen, Mr. William Henry\",\"sex\":\"male\",\"age\":35.0,\"sibsp\":0,\"parch\":0,\"ticket\":\"373450\",\"fare\":8.05,\"cabin\":null,\"embarked\":\"S\"}]'"
       ]
      }
     ],
     "prompt_number": 37
    },
    {
     "cell_type": "code",
     "collapsed": false,
     "input": [
      "# discussion"
     ],
     "language": "python",
     "metadata": {},
     "outputs": [],
     "prompt_number": 8
    },
    {
     "cell_type": "markdown",
     "metadata": {},
     "source": [
      "# 2. APIs"
     ]
    },
    {
     "cell_type": "markdown",
     "metadata": {},
     "source": [
      "- What's an API? (and why do we care?)"
     ]
    },
    {
     "cell_type": "markdown",
     "metadata": {},
     "source": [
      "## 2 A simple web request"
     ]
    },
    {
     "cell_type": "code",
     "collapsed": false,
     "input": [
      "import urllib\n",
      "url = \"http://www.reddit.com/r/funny.json\"\n",
      "data = urllib.urlopen(url).read()\n",
      "print data"
     ],
     "language": "python",
     "metadata": {},
     "outputs": [
      {
       "output_type": "stream",
       "stream": "stdout",
       "text": [
        "{\"kind\": \"Listing\", \"data\": {\"modhash\": \"\", \"children\": [{\"kind\": \"t3\", \"data\": {\"domain\": \"i.imgur.com\", \"banned_by\": null, \"media_embed\": {}, \"subreddit\": \"funny\", \"selftext_html\": null, \"selftext\": \"\", \"likes\": null, \"secure_media\": null, \"link_flair_text\": null, \"id\": \"27k0mh\", \"gilded\": 0, \"secure_media_embed\": {}, \"clicked\": false, \"stickied\": false, \"author\": \"pauldrye\", \"media\": null, \"score\": 4106, \"approved_by\": null, \"over_18\": false, \"hidden\": false, \"thumbnail\": \"http://b.thumbs.redditmedia.com/mpPxfX106izfAu8G.jpg\", \"subreddit_id\": \"t5_2qh33\", \"edited\": false, \"link_flair_css_class\": null, \"author_flair_css_class\": null, \"downs\": 14478, \"saved\": false, \"is_self\": false, \"permalink\": \"/r/funny/comments/27k0mh/yes_i_see_your_point/\", \"name\": \"t3_27k0mh\", \"created\": 1402161398.0, \"url\": \"https://i.imgur.com/oW53SZR.jpg\", \"author_flair_text\": null, \"title\": \"Yes, I see your point\", \"created_utc\": 1402157798.0, \"ups\": 18584, \"num_comments\": 401, \"visited\": false, \"num_reports\": null, \"distinguished\": null}}, {\"kind\": \"t3\", \"data\": {\"domain\": \"imgur.com\", \"banned_by\": null, \"media_embed\": {\"content\": \"&lt;iframe class=\\\"embedly-embed\\\" src=\\\"//cdn.embedly.com/widgets/media.html?src=http%3A%2F%2Fimgur.com%2Fa%2FEh9y0%2Fembed&amp;url=http%3A%2F%2Fimgur.com%2Fa%2FEh9y0&amp;image=http%3A%2F%2Fi.imgur.com%2FR9fnv2j.jpg&amp;key=2aa3c4d5f3de4f5b9120b660ad850dc9&amp;type=text%2Fhtml&amp;schema=imgur\\\" width=\\\"550\\\" height=\\\"550\\\" scrolling=\\\"no\\\" frameborder=\\\"0\\\" allowfullscreen&gt;&lt;/iframe&gt;\", \"width\": 550, \"scrolling\": false, \"height\": 550}, \"subreddit\": \"funny\", \"selftext_html\": null, \"selftext\": \"\", \"likes\": null, \"secure_media\": null, \"link_flair_text\": null, \"id\": \"27jwit\", \"gilded\": 0, \"secure_media_embed\": {}, \"clicked\": false, \"stickied\": false, \"author\": \"CyzeDoesMatter\", \"media\": {\"oembed\": {\"provider_url\": \"http://imgur.com\", \"description\": \"Imgur is home to the web's most popular image content, curated in real time by a dedicated community through commenting, voting and sharing.\", \"title\": \"What it would be like if England WON the World Cup!\", \"type\": \"rich\", \"thumbnail_width\": 625, \"height\": 550, \"width\": 550, \"html\": \"&lt;iframe class=\\\"embedly-embed\\\" src=\\\"//cdn.embedly.com/widgets/media.html?src=http%3A%2F%2Fimgur.com%2Fa%2FEh9y0%2Fembed&amp;url=http%3A%2F%2Fimgur.com%2Fa%2FEh9y0&amp;image=http%3A%2F%2Fi.imgur.com%2FR9fnv2j.jpg&amp;key=2aa3c4d5f3de4f5b9120b660ad850dc9&amp;type=text%2Fhtml&amp;schema=imgur\\\" width=\\\"550\\\" height=\\\"550\\\" scrolling=\\\"no\\\" frameborder=\\\"0\\\" allowfullscreen&gt;&lt;/iframe&gt;\", \"author_name\": \"CyzeDoesMatter\", \"version\": \"1.0\", \"provider_name\": \"Imgur\", \"thumbnail_url\": \"http://i.imgur.com/R9fnv2j.jpg\", \"thumbnail_height\": 453, \"author_url\": \"http://imgur.com/user/CyzeDoesMatter\"}, \"type\": \"imgur.com\"}, \"score\": 3149, \"approved_by\": null, \"over_18\": false, \"hidden\": false, \"thumbnail\": \"http://b.thumbs.redditmedia.com/yt7V0dzgY9yftya_.jpg\", \"subreddit_id\": \"t5_2qh33\", \"edited\": false, \"link_flair_css_class\": null, \"author_flair_css_class\": null, \"downs\": 4769, \"saved\": false, \"is_self\": false, \"permalink\": \"/r/funny/comments/27jwit/what_it_would_be_like_if_england_won_the_world_cup/\", \"name\": \"t3_27jwit\", \"created\": 1402183414.0, \"url\": \"http://imgur.com/a/Eh9y0\", \"author_flair_text\": null, \"title\": \"What it would be like if England WON the world cup!\", \"created_utc\": 1402154614.0, \"ups\": 7918, \"num_comments\": 538, \"visited\": false, \"num_reports\": null, \"distinguished\": null}}, {\"kind\": \"t3\", \"data\": {\"domain\": \"i.imgur.com\", \"banned_by\": null, \"media_embed\": {}, \"subreddit\": \"funny\", \"selftext_html\": null, \"selftext\": \"\", \"likes\": null, \"secure_media\": null, \"link_flair_text\": null, \"id\": \"27jxg2\", \"gilded\": 0, \"secure_media_embed\": {}, \"clicked\": false, \"stickied\": false, \"author\": \"wheelman4\", \"media\": null, \"score\": 2647, \"approved_by\": null, \"over_18\": false, \"hidden\": false, \"thumbnail\": \"http://b.thumbs.redditmedia.com/aziA1I6cL7244Dn7.jpg\", \"subreddit_id\": \"t5_2qh33\", \"edited\": false, \"link_flair_css_class\": null, \"author_flair_css_class\": null, \"downs\": 3662, \"saved\": false, \"is_self\": false, \"permalink\": \"/r/funny/comments/27jxg2/my_buddys_bachelor_party_photo/\", \"name\": \"t3_27jxg2\", \"created\": 1402184189.0, \"url\": \"http://i.imgur.com/C4uV98c.jpg\", \"author_flair_text\": null, \"title\": \"My buddy's bachelor party photo.\", \"created_utc\": 1402155389.0, \"ups\": 6309, \"num_comments\": 149, \"visited\": false, \"num_reports\": null, \"distinguished\": null}}, {\"kind\": \"t3\", \"data\": {\"domain\": \"i.imgur.com\", \"banned_by\": null, \"media_embed\": {}, \"subreddit\": \"funny\", \"selftext_html\": null, \"selftext\": \"\", \"likes\": null, \"secure_media\": null, \"link_flair_text\": null, \"id\": \"27jxde\", \"gilded\": 0, \"secure_media_embed\": {}, \"clicked\": false, \"stickied\": false, \"author\": \"Ihavebigfeet\", \"media\": null, \"score\": 2584, \"approved_by\": null, \"over_18\": false, \"hidden\": false, \"thumbnail\": \"http://b.thumbs.redditmedia.com/4P1VQkEjn0aV4yRm.jpg\", \"subreddit_id\": \"t5_2qh33\", \"edited\": false, \"link_flair_css_class\": null, \"author_flair_css_class\": null, \"downs\": 2355, \"saved\": false, \"is_self\": false, \"permalink\": \"/r/funny/comments/27jxde/damn_its_great_to_be_canadian_xpost_from_rcanadia/\", \"name\": \"t3_27jxde\", \"created\": 1402184132.0, \"url\": \"http://i.imgur.com/3Dpx4Jk.jpg\", \"author_flair_text\": null, \"title\": \"Damn it's great to be Canadian. (x-post from r/Canadia)\", \"created_utc\": 1402155332.0, \"ups\": 4939, \"num_comments\": 110, \"visited\": false, \"num_reports\": null, \"distinguished\": null}}, {\"kind\": \"t3\", \"data\": {\"domain\": \"imgur.com\", \"banned_by\": null, \"media_embed\": {}, \"subreddit\": \"funny\", \"selftext_html\": null, \"selftext\": \"\", \"likes\": null, \"secure_media\": null, \"link_flair_text\": null, \"id\": \"27k3n3\", \"gilded\": 0, \"secure_media_embed\": {}, \"clicked\": false, \"stickied\": false, \"author\": \"TacoJuans\", \"media\": null, \"score\": 1860, \"approved_by\": null, \"over_18\": false, \"hidden\": false, \"thumbnail\": \"http://a.thumbs.redditmedia.com/uRmLkhiyMsYBUSk6.jpg\", \"subreddit_id\": \"t5_2qh33\", \"edited\": false, \"link_flair_css_class\": null, \"author_flair_css_class\": null, \"downs\": 1326, \"saved\": false, \"is_self\": false, \"permalink\": \"/r/funny/comments/27k3n3/so_whats_in_the_bag/\", \"name\": \"t3_27k3n3\", \"created\": 1402189011.0, \"url\": \"http://imgur.com/4lB7jaa\", \"author_flair_text\": null, \"title\": \"So what's in the bag?\", \"created_utc\": 1402160211.0, \"ups\": 3186, \"num_comments\": 110, \"visited\": false, \"num_reports\": null, \"distinguished\": null}}, {\"kind\": \"t3\", \"data\": {\"domain\": \"i.imgur.com\", \"banned_by\": null, \"media_embed\": {}, \"subreddit\": \"funny\", \"selftext_html\": null, \"selftext\": \"\", \"likes\": null, \"secure_media\": null, \"link_flair_text\": null, \"id\": \"27jvkh\", \"gilded\": 0, \"secure_media_embed\": {}, \"clicked\": false, \"stickied\": false, \"author\": \"grapeormelon\", \"media\": null, \"score\": 2546, \"approved_by\": null, \"over_18\": false, \"hidden\": false, \"thumbnail\": \"http://b.thumbs.redditmedia.com/ieyAIEp2XPcw2W1u.jpg\", \"subreddit_id\": \"t5_2qh33\", \"edited\": false, \"link_flair_css_class\": null, \"author_flair_css_class\": null, \"downs\": 2128, \"saved\": false, \"is_self\": false, \"permalink\": \"/r/funny/comments/27jvkh/my_daughter_was_very_upset_about_misplacing_her/\", \"name\": \"t3_27jvkh\", \"created\": 1402182667.0, \"url\": \"http://i.imgur.com/fgTXRyA.jpg\", \"author_flair_text\": null, \"title\": \"My daughter was very upset about misplacing her lost tooth. I told her to leave a note under her pillow for the tooth fairy explaining what happened.\", \"created_utc\": 1402153867.0, \"ups\": 4674, \"num_comments\": 137, \"visited\": false, \"num_reports\": null, \"distinguished\": null}}, {\"kind\": \"t3\", \"data\": {\"domain\": \"i.imgur.com\", \"banned_by\": null, \"media_embed\": {}, \"subreddit\": \"funny\", \"selftext_html\": null, \"selftext\": \"\", \"likes\": null, \"secure_media\": null, \"link_flair_text\": null, \"id\": \"27jwc5\", \"gilded\": 0, \"secure_media_embed\": {}, \"clicked\": false, \"stickied\": false, \"author\": \"Josh_Lyman\", \"media\": null, \"score\": 2276, \"approved_by\": null, \"over_18\": false, \"hidden\": false, \"thumbnail\": \"http://a.thumbs.redditmedia.com/GJkR-wr0hhNFK65B.jpg\", \"subreddit_id\": \"t5_2qh33\", \"edited\": false, \"link_flair_css_class\": null, \"author_flair_css_class\": null, \"downs\": 1416, \"saved\": false, \"is_self\": false, \"permalink\": \"/r/funny/comments/27jwc5/bodyslam/\", \"name\": \"t3_27jwc5\", \"created\": 1402183262.0, \"url\": \"http://i.imgur.com/BMzPtp3.gif\", \"author_flair_text\": null, \"title\": \"Bodyslam!\", \"created_utc\": 1402154462.0, \"ups\": 3692, \"num_comments\": 104, \"visited\": false, \"num_reports\": null, \"distinguished\": null}}, {\"kind\": \"t3\", \"data\": {\"domain\": \"i.imgur.com\", \"banned_by\": null, \"media_embed\": {}, \"subreddit\": \"funny\", \"selftext_html\": null, \"selftext\": \"\", \"likes\": null, \"secure_media\": null, \"link_flair_text\": null, \"id\": \"27jqnu\", \"gilded\": 0, \"secure_media_embed\": {}, \"clicked\": false, \"stickied\": false, \"author\": \"Ze-skywalker\", \"media\": null, \"score\": 3142, \"approved_by\": null, \"over_18\": false, \"hidden\": false, \"thumbnail\": \"http://b.thumbs.redditmedia.com/JCadiuMMqbkYezDy.jpg\", \"subreddit_id\": \"t5_2qh33\", \"edited\": false, \"link_flair_css_class\": null, \"author_flair_css_class\": null, \"downs\": 17599, \"saved\": false, \"is_self\": false, \"permalink\": \"/r/funny/comments/27jqnu/its_bedtime/\", \"name\": \"t3_27jqnu\", \"created\": 1402178273.0, \"url\": \"http://i.imgur.com/hyPOBaz.jpg\", \"author_flair_text\": null, \"title\": \"its bedtime!\", \"created_utc\": 1402149473.0, \"ups\": 20741, \"num_comments\": 383, \"visited\": false, \"num_reports\": null, \"distinguished\": null}}, {\"kind\": \"t3\", \"data\": {\"domain\": \"imgur.com\", \"banned_by\": null, \"media_embed\": {}, \"subreddit\": \"funny\", \"selftext_html\": null, \"selftext\": \"\", \"likes\": null, \"secure_media\": null, \"link_flair_text\": null, \"id\": \"27jstt\", \"gilded\": 0, \"secure_media_embed\": {}, \"clicked\": false, \"stickied\": false, \"author\": \"ChrisDaBaller\", \"media\": null, \"score\": 2256, \"approved_by\": null, \"over_18\": false, \"hidden\": false, \"thumbnail\": \"http://b.thumbs.redditmedia.com/U8V1FOajywv0dSSm.jpg\", \"subreddit_id\": \"t5_2qh33\", \"edited\": false, \"link_flair_css_class\": null, \"author_flair_css_class\": null, \"downs\": 11724, \"saved\": false, \"is_self\": false, \"permalink\": \"/r/funny/comments/27jstt/i_love_penguins/\", \"name\": \"t3_27jstt\", \"created\": 1402180362.0, \"url\": \"http://imgur.com/FEBxXQt\", \"author_flair_text\": null, \"title\": \"I love penguins\", \"created_utc\": 1402151562.0, \"ups\": 13980, \"num_comments\": 170, \"visited\": false, \"num_reports\": null, \"distinguished\": null}}, {\"kind\": \"t3\", \"data\": {\"domain\": \"i.imgur.com\", \"banned_by\": null, \"media_embed\": {}, \"subreddit\": \"funny\", \"selftext_html\": null, \"selftext\": \"\", \"likes\": null, \"secure_media\": null, \"link_flair_text\": null, \"id\": \"27jrkf\", \"gilded\": 0, \"secure_media_embed\": {}, \"clicked\": false, \"stickied\": false, \"author\": \"Sixteen_Down\", \"media\": null, \"score\": 2223, \"approved_by\": null, \"over_18\": false, \"hidden\": false, \"thumbnail\": \"http://a.thumbs.redditmedia.com/t9crZCxD7XJyelx4.jpg\", \"subreddit_id\": \"t5_2qh33\", \"edited\": false, \"link_flair_css_class\": null, \"author_flair_css_class\": null, \"downs\": 2475, \"saved\": false, \"is_self\": false, \"permalink\": \"/r/funny/comments/27jrkf/old_lady_hood_ornament/\", \"name\": \"t3_27jrkf\", \"created\": 1402179206.0, \"url\": \"http://i.imgur.com/LtUokWm.jpg\", \"author_flair_text\": null, \"title\": \"Old Lady Hood Ornament\", \"created_utc\": 1402150406.0, \"ups\": 4698, \"num_comments\": 357, \"visited\": false, \"num_reports\": null, \"distinguished\": null}}, {\"kind\": \"t3\", \"data\": {\"domain\": \"i.imgur.com\", \"banned_by\": null, \"media_embed\": {}, \"subreddit\": \"funny\", \"selftext_html\": null, \"selftext\": \"\", \"likes\": null, \"secure_media\": null, \"link_flair_text\": null, \"id\": \"27k4dn\", \"gilded\": 0, \"secure_media_embed\": {}, \"clicked\": false, \"stickied\": false, \"author\": \"Megatron_Griffin\", \"media\": null, \"score\": 1272, \"approved_by\": null, \"over_18\": false, \"hidden\": false, \"thumbnail\": \"http://b.thumbs.redditmedia.com/Cju_9mfjhJ7k_Gc_.jpg\", \"subreddit_id\": \"t5_2qh33\", \"edited\": false, \"link_flair_css_class\": null, \"author_flair_css_class\": null, \"downs\": 417, \"saved\": false, \"is_self\": false, \"permalink\": \"/r/funny/comments/27k4dn/danger_do_not_touch/\", \"name\": \"t3_27k4dn\", \"created\": 1402189554.0, \"url\": \"http://i.imgur.com/rQMQ3oE.png\", \"author_flair_text\": null, \"title\": \"DANGER! Do not touch.\", \"created_utc\": 1402160754.0, \"ups\": 1689, \"num_comments\": 26, \"visited\": false, \"num_reports\": null, \"distinguished\": null}}, {\"kind\": \"t3\", \"data\": {\"domain\": \"i.imgur.com\", \"banned_by\": null, \"media_embed\": {}, \"subreddit\": \"funny\", \"selftext_html\": null, \"selftext\": \"\", \"likes\": null, \"secure_media\": null, \"link_flair_text\": null, \"id\": \"27jmob\", \"gilded\": 0, \"secure_media_embed\": {}, \"clicked\": false, \"stickied\": false, \"author\": \"StickleyMan\", \"media\": null, \"score\": 2702, \"approved_by\": null, \"over_18\": false, \"hidden\": false, \"thumbnail\": \"http://a.thumbs.redditmedia.com/9AUHIkWIFc-bqy30.jpg\", \"subreddit_id\": \"t5_2qh33\", \"edited\": false, \"link_flair_css_class\": null, \"author_flair_css_class\": null, \"downs\": 3092, \"saved\": false, \"is_self\": false, \"permalink\": \"/r/funny/comments/27jmob/hey_kid_fuck_you/\", \"name\": \"t3_27jmob\", \"created\": 1402173801.0, \"url\": \"http://i.imgur.com/R7ErVIG.gif\", \"author_flair_text\": null, \"title\": \"Hey kid, fuck you!\", \"created_utc\": 1402145001.0, \"ups\": 5794, \"num_comments\": 183, \"visited\": false, \"num_reports\": null, \"distinguished\": null}}, {\"kind\": \"t3\", \"data\": {\"domain\": \"imgur.com\", \"banned_by\": null, \"media_embed\": {}, \"subreddit\": \"funny\", \"selftext_html\": null, \"selftext\": \"\", \"likes\": null, \"secure_media\": null, \"link_flair_text\": null, \"id\": \"27k1jk\", \"gilded\": 0, \"secure_media_embed\": {}, \"clicked\": false, \"stickied\": false, \"author\": \"kebly\", \"media\": null, \"score\": 1172, \"approved_by\": null, \"over_18\": false, \"hidden\": false, \"thumbnail\": \"http://a.thumbs.redditmedia.com/a7dA4QqwEuaPFQmL.jpg\", \"subreddit_id\": \"t5_2qh33\", \"edited\": false, \"link_flair_css_class\": null, \"author_flair_css_class\": null, \"downs\": 295, \"saved\": false, \"is_self\": false, \"permalink\": \"/r/funny/comments/27k1jk/excellent_subtitles_netflix/\", \"name\": \"t3_27k1jk\", \"created\": 1402187351.0, \"url\": \"http://imgur.com/sduLjkW\", \"author_flair_text\": null, \"title\": \"excellent subtitles, Netflix\", \"created_utc\": 1402158551.0, \"ups\": 1467, \"num_comments\": 33, \"visited\": false, \"num_reports\": null, \"distinguished\": null}}, {\"kind\": \"t3\", \"data\": {\"domain\": \"i.imgur.com\", \"banned_by\": null, \"media_embed\": {}, \"subreddit\": \"funny\", \"selftext_html\": null, \"selftext\": \"\", \"likes\": null, \"secure_media\": null, \"link_flair_text\": null, \"id\": \"27kded\", \"gilded\": 0, \"secure_media_embed\": {}, \"clicked\": false, \"stickied\": false, \"author\": \"JimmyNuggets\", \"media\": null, \"score\": 724, \"approved_by\": null, \"over_18\": false, \"hidden\": false, \"thumbnail\": \"http://b.thumbs.redditmedia.com/Z7G_BH6vKj-cfjnQ.jpg\", \"subreddit_id\": \"t5_2qh33\", \"edited\": false, \"link_flair_css_class\": null, \"author_flair_css_class\": null, \"downs\": 238, \"saved\": false, \"is_self\": false, \"permalink\": \"/r/funny/comments/27kded/wearing_the_wrong_shirt_at_disneyland/\", \"name\": \"t3_27kded\", \"created\": 1402196289.0, \"url\": \"http://i.imgur.com/4j1rYzm.jpg\", \"author_flair_text\": null, \"title\": \"Wearing the wrong shirt at Disneyland.\", \"created_utc\": 1402167489.0, \"ups\": 962, \"num_comments\": 35, \"visited\": false, \"num_reports\": null, \"distinguished\": null}}, {\"kind\": \"t3\", \"data\": {\"domain\": \"i.imgur.com\", \"banned_by\": null, \"media_embed\": {}, \"subreddit\": \"funny\", \"selftext_html\": null, \"selftext\": \"\", \"likes\": null, \"secure_media\": null, \"link_flair_text\": null, \"id\": \"27jlaz\", \"gilded\": 0, \"secure_media_embed\": {}, \"clicked\": false, \"stickied\": false, \"author\": \"MrCodeSmith\", \"media\": null, \"score\": 2449, \"approved_by\": null, \"over_18\": false, \"hidden\": false, \"thumbnail\": \"http://a.thumbs.redditmedia.com/s3aaICsUrPl1bMdp.jpg\", \"subreddit_id\": \"t5_2qh33\", \"edited\": false, \"link_flair_css_class\": null, \"author_flair_css_class\": null, \"downs\": 2105, \"saved\": false, \"is_self\": false, \"permalink\": \"/r/funny/comments/27jlaz/shopping_in_popular_clothing_stores_and_finding/\", \"name\": \"t3_27jlaz\", \"created\": 1402172077.0, \"url\": \"http://i.imgur.com/IAt9wjT.jpg\", \"author_flair_text\": null, \"title\": \"Shopping in popular clothing stores and finding nothing I like.\", \"created_utc\": 1402143277.0, \"ups\": 4554, \"num_comments\": 50, \"visited\": false, \"num_reports\": null, \"distinguished\": null}}, {\"kind\": \"t3\", \"data\": {\"domain\": \"i.imgur.com\", \"banned_by\": null, \"media_embed\": {}, \"subreddit\": \"funny\", \"selftext_html\": null, \"selftext\": \"\", \"likes\": null, \"secure_media\": null, \"link_flair_text\": null, \"id\": \"27jkea\", \"gilded\": 0, \"secure_media_embed\": {}, \"clicked\": false, \"stickied\": false, \"author\": \"getridoftheseaward\", \"media\": null, \"score\": 2560, \"approved_by\": null, \"over_18\": false, \"hidden\": false, \"thumbnail\": \"http://a.thumbs.redditmedia.com/MQ0e5zep4XnVaYrJ.jpg\", \"subreddit_id\": \"t5_2qh33\", \"edited\": false, \"link_flair_css_class\": null, \"author_flair_css_class\": null, \"downs\": 2411, \"saved\": false, \"is_self\": false, \"permalink\": \"/r/funny/comments/27jkea/have_i_been_in_a_coma_or_is_it_still_june/\", \"name\": \"t3_27jkea\", \"created\": 1402170754.0, \"url\": \"http://i.imgur.com/7sb203Y.jpg\", \"author_flair_text\": null, \"title\": \"Have I been in a coma or is it still June?\", \"created_utc\": 1402141954.0, \"ups\": 4971, \"num_comments\": 158, \"visited\": false, \"num_reports\": null, \"distinguished\": null}}, {\"kind\": \"t3\", \"data\": {\"domain\": \"imgur.com\", \"banned_by\": null, \"media_embed\": {}, \"subreddit\": \"funny\", \"selftext_html\": null, \"selftext\": \"\", \"likes\": null, \"secure_media\": null, \"link_flair_text\": null, \"id\": \"27jn2h\", \"gilded\": 0, \"secure_media_embed\": {}, \"clicked\": false, \"stickied\": false, \"author\": \"Moln0014\", \"media\": null, \"score\": 1964, \"approved_by\": null, \"over_18\": false, \"hidden\": false, \"thumbnail\": \"http://a.thumbs.redditmedia.com/lrL88m-iHy4JQMr8.jpg\", \"subreddit_id\": \"t5_2qh33\", \"edited\": false, \"link_flair_css_class\": null, \"author_flair_css_class\": null, \"downs\": 1614, \"saved\": false, \"is_self\": false, \"permalink\": \"/r/funny/comments/27jn2h/poor_sloth/\", \"name\": \"t3_27jn2h\", \"created\": 1402174289.0, \"url\": \"http://imgur.com/IqYKNng\", \"author_flair_text\": null, \"title\": \"Poor Sloth.\", \"created_utc\": 1402145489.0, \"ups\": 3578, \"num_comments\": 42, \"visited\": false, \"num_reports\": null, \"distinguished\": null}}, {\"kind\": \"t3\", \"data\": {\"domain\": \"i.imgur.com\", \"banned_by\": null, \"media_embed\": {}, \"subreddit\": \"funny\", \"selftext_html\": null, \"selftext\": \"\", \"likes\": null, \"secure_media\": null, \"link_flair_text\": null, \"id\": \"27jppv\", \"gilded\": 0, \"secure_media_embed\": {}, \"clicked\": false, \"stickied\": false, \"author\": \"Helix1337\", \"media\": null, \"score\": 1664, \"approved_by\": null, \"over_18\": false, \"hidden\": false, \"thumbnail\": \"http://b.thumbs.redditmedia.com/4FmpJUPeI8XRB7Z_.jpg\", \"subreddit_id\": \"t5_2qh33\", \"edited\": false, \"link_flair_css_class\": null, \"author_flair_css_class\": null, \"downs\": 982, \"saved\": false, \"is_self\": false, \"permalink\": \"/r/funny/comments/27jppv/jesus_loves_you/\", \"name\": \"t3_27jppv\", \"created\": 1402177271.0, \"url\": \"http://i.imgur.com/yqd16Q4.jpg\", \"author_flair_text\": null, \"title\": \"Jesus loves you\", \"created_utc\": 1402148471.0, \"ups\": 2646, \"num_comments\": 40, \"visited\": false, \"num_reports\": null, \"distinguished\": null}}, {\"kind\": \"t3\", \"data\": {\"domain\": \"imgur.com\", \"banned_by\": null, \"media_embed\": {}, \"subreddit\": \"funny\", \"selftext_html\": null, \"selftext\": \"\", \"likes\": null, \"secure_media\": null, \"link_flair_text\": null, \"id\": \"27jrq6\", \"gilded\": 0, \"secure_media_embed\": {}, \"clicked\": false, \"stickied\": false, \"author\": \"SquidwardSnowden1\", \"media\": null, \"score\": 1450, \"approved_by\": null, \"over_18\": false, \"hidden\": false, \"thumbnail\": \"http://a.thumbs.redditmedia.com/80QyNak5jnqr5WOT.jpg\", \"subreddit_id\": \"t5_2qh33\", \"edited\": false, \"link_flair_css_class\": null, \"author_flair_css_class\": null, \"downs\": 1120, \"saved\": false, \"is_self\": false, \"permalink\": \"/r/funny/comments/27jrq6/hilarious_or_insensitive/\", \"name\": \"t3_27jrq6\", \"created\": 1402179360.0, \"url\": \"http://imgur.com/6VqsZol\", \"author_flair_text\": null, \"title\": \"Hilarious or insensitive?\", \"created_utc\": 1402150560.0, \"ups\": 2570, \"num_comments\": 56, \"visited\": false, \"num_reports\": null, \"distinguished\": null}}, {\"kind\": \"t3\", \"data\": {\"domain\": \"i.imgur.com\", \"banned_by\": null, \"media_embed\": {}, \"subreddit\": \"funny\", \"selftext_html\": null, \"selftext\": \"\", \"likes\": null, \"secure_media\": null, \"link_flair_text\": null, \"id\": \"27jle3\", \"gilded\": 0, \"secure_media_embed\": {}, \"clicked\": false, \"stickied\": false, \"author\": \"bokdokker\", \"media\": null, \"score\": 1994, \"approved_by\": null, \"over_18\": false, \"hidden\": false, \"thumbnail\": \"http://b.thumbs.redditmedia.com/dYz0c3sYpK7WlM0W.jpg\", \"subreddit_id\": \"t5_2qh33\", \"edited\": false, \"link_flair_css_class\": null, \"author_flair_css_class\": null, \"downs\": 1759, \"saved\": false, \"is_self\": false, \"permalink\": \"/r/funny/comments/27jle3/mlaria/\", \"name\": \"t3_27jle3\", \"created\": 1402172187.0, \"url\": \"http://i.imgur.com/9gDMN8b.jpg\", \"author_flair_text\": null, \"title\": \"M,laria\", \"created_utc\": 1402143387.0, \"ups\": 3753, \"num_comments\": 52, \"visited\": false, \"num_reports\": null, \"distinguished\": null}}, {\"kind\": \"t3\", \"data\": {\"domain\": \"imgur.com\", \"banned_by\": null, \"media_embed\": {}, \"subreddit\": \"funny\", \"selftext_html\": null, \"selftext\": \"\", \"likes\": null, \"secure_media\": null, \"link_flair_text\": null, \"id\": \"27jz29\", \"gilded\": 0, \"secure_media_embed\": {}, \"clicked\": false, \"stickied\": false, \"author\": \"bheek\", \"media\": null, \"score\": 943, \"approved_by\": null, \"over_18\": false, \"hidden\": false, \"thumbnail\": \"http://b.thumbs.redditmedia.com/32Tz730iI3OL1fpe.jpg\", \"subreddit_id\": \"t5_2qh33\", \"edited\": false, \"link_flair_css_class\": null, \"author_flair_css_class\": null, \"downs\": 295, \"saved\": false, \"is_self\": false, \"permalink\": \"/r/funny/comments/27jz29/the_freedom_is_strong_with_this_one/\", \"name\": \"t3_27jz29\", \"created\": 1402185442.0, \"url\": \"http://imgur.com/nv4NKwz\", \"author_flair_text\": null, \"title\": \"The freedom is strong with this one\", \"created_utc\": 1402156642.0, \"ups\": 1238, \"num_comments\": 37, \"visited\": false, \"num_reports\": null, \"distinguished\": null}}, {\"kind\": \"t3\", \"data\": {\"domain\": \"imgur.com\", \"banned_by\": null, \"media_embed\": {}, \"subreddit\": \"funny\", \"selftext_html\": null, \"selftext\": \"\", \"likes\": null, \"secure_media\": null, \"link_flair_text\": null, \"id\": \"27jda2\", \"gilded\": 0, \"secure_media_embed\": {}, \"clicked\": false, \"stickied\": false, \"author\": \"beasticle\", \"media\": null, \"score\": 3131, \"approved_by\": null, \"over_18\": false, \"hidden\": false, \"thumbnail\": \"http://b.thumbs.redditmedia.com/bWF6MazZAgLLovgm.jpg\", \"subreddit_id\": \"t5_2qh33\", \"edited\": false, \"link_flair_css_class\": null, \"author_flair_css_class\": null, \"downs\": 9136, \"saved\": false, \"is_self\": false, \"permalink\": \"/r/funny/comments/27jda2/well_i_got_fired_today_anyone_hiring/\", \"name\": \"t3_27jda2\", \"created\": 1402159470.0, \"url\": \"http://imgur.com/gallery/09BR3go\", \"author_flair_text\": null, \"title\": \"Well I got fired today, anyone hiring?\", \"created_utc\": 1402130670.0, \"ups\": 12267, \"num_comments\": 220, \"visited\": false, \"num_reports\": null, \"distinguished\": null}}, {\"kind\": \"t3\", \"data\": {\"domain\": \"i.imgur.com\", \"banned_by\": null, \"media_embed\": {}, \"subreddit\": \"funny\", \"selftext_html\": null, \"selftext\": \"\", \"likes\": null, \"secure_media\": null, \"link_flair_text\": null, \"id\": \"27jmsy\", \"gilded\": 0, \"secure_media_embed\": {}, \"clicked\": false, \"stickied\": false, \"author\": \"toy205\", \"media\": null, \"score\": 1395, \"approved_by\": null, \"over_18\": false, \"hidden\": false, \"thumbnail\": \"http://a.thumbs.redditmedia.com/8KvKUy7YRwIaI7W0.jpg\", \"subreddit_id\": \"t5_2qh33\", \"edited\": false, \"link_flair_css_class\": null, \"author_flair_css_class\": null, \"downs\": 634, \"saved\": false, \"is_self\": false, \"permalink\": \"/r/funny/comments/27jmsy/whats_really_going_on_in_putins_mind/\", \"name\": \"t3_27jmsy\", \"created\": 1402173985.0, \"url\": \"http://i.imgur.com/FZOIVS2.jpg\", \"author_flair_text\": null, \"title\": \"What's really going on in Putin's mind\", \"created_utc\": 1402145185.0, \"ups\": 2029, \"num_comments\": 59, \"visited\": false, \"num_reports\": null, \"distinguished\": null}}, {\"kind\": \"t3\", \"data\": {\"domain\": \"i.imgur.com\", \"banned_by\": null, \"media_embed\": {}, \"subreddit\": \"funny\", \"selftext_html\": null, \"selftext\": \"\", \"likes\": null, \"secure_media\": null, \"link_flair_text\": null, \"id\": \"27jhjh\", \"gilded\": 0, \"secure_media_embed\": {}, \"clicked\": false, \"stickied\": false, \"author\": \"Jtheos\", \"media\": null, \"score\": 1869, \"approved_by\": null, \"over_18\": false, \"hidden\": false, \"thumbnail\": \"http://b.thumbs.redditmedia.com/A7fqJlkkpFoIxGzg.jpg\", \"subreddit_id\": \"t5_2qh33\", \"edited\": false, \"link_flair_css_class\": null, \"author_flair_css_class\": null, \"downs\": 1033, \"saved\": false, \"is_self\": false, \"permalink\": \"/r/funny/comments/27jhjh/this_is_life/\", \"name\": \"t3_27jhjh\", \"created\": 1402166445.0, \"url\": \"http://i.imgur.com/LOhCS5i.jpg\", \"author_flair_text\": null, \"title\": \"This is life.\", \"created_utc\": 1402137645.0, \"ups\": 2902, \"num_comments\": 34, \"visited\": false, \"num_reports\": null, \"distinguished\": null}}, {\"kind\": \"t3\", \"data\": {\"domain\": \"i.imgur.com\", \"banned_by\": null, \"media_embed\": {}, \"subreddit\": \"funny\", \"selftext_html\": null, \"selftext\": \"\", \"likes\": null, \"secure_media\": null, \"link_flair_text\": null, \"id\": \"27jwlq\", \"gilded\": 0, \"secure_media_embed\": {}, \"clicked\": false, \"stickied\": false, \"author\": \"HexMusique\", \"media\": null, \"score\": 745, \"approved_by\": null, \"over_18\": false, \"hidden\": false, \"thumbnail\": \"http://b.thumbs.redditmedia.com/ecm-YS1b6JvFAzQ-.jpg\", \"subreddit_id\": \"t5_2qh33\", \"edited\": false, \"link_flair_css_class\": null, \"author_flair_css_class\": null, \"downs\": 387, \"saved\": false, \"is_self\": false, \"permalink\": \"/r/funny/comments/27jwlq/watch_out/\", \"name\": \"t3_27jwlq\", \"created\": 1402183493.0, \"url\": \"http://i.imgur.com/TbquFZO.jpg\", \"author_flair_text\": null, \"title\": \"Watch Out!\", \"created_utc\": 1402154693.0, \"ups\": 1132, \"num_comments\": 12, \"visited\": false, \"num_reports\": null, \"distinguished\": null}}], \"after\": \"t3_27jwlq\", \"before\": null}}\n"
       ]
      }
     ],
     "prompt_number": 12
    },
    {
     "cell_type": "code",
     "collapsed": false,
     "input": [
      "jdata = json.loads(data)\n",
      "print jdata.keys()\n",
      "print type(jdata['data']['children'])\n",
      "\n",
      "print type(jdata)\n",
      "print jdata.keys()\n",
      "\n",
      "# print jdata['kind']\n",
      "# print jdata['data']\n",
      "# df = pd.DataFrame(jdata['data']) NO NO NO\n",
      "\n",
      "dc = jdata[\"data\"][\"children\"] #children has no values so we load with idexes\n",
      "dc[0]"
     ],
     "language": "python",
     "metadata": {},
     "outputs": [
      {
       "output_type": "stream",
       "stream": "stdout",
       "text": [
        "[u'kind', u'data']\n",
        "<type 'list'>\n",
        "<type 'dict'>\n",
        "[u'kind', u'data']\n"
       ]
      },
      {
       "metadata": {},
       "output_type": "pyout",
       "prompt_number": 25,
       "text": [
        "{u'data': {u'approved_by': None,\n",
        "  u'author': u'pauldrye',\n",
        "  u'author_flair_css_class': None,\n",
        "  u'author_flair_text': None,\n",
        "  u'banned_by': None,\n",
        "  u'clicked': False,\n",
        "  u'created': 1402161398.0,\n",
        "  u'created_utc': 1402157798.0,\n",
        "  u'distinguished': None,\n",
        "  u'domain': u'i.imgur.com',\n",
        "  u'downs': 14478,\n",
        "  u'edited': False,\n",
        "  u'gilded': 0,\n",
        "  u'hidden': False,\n",
        "  u'id': u'27k0mh',\n",
        "  u'is_self': False,\n",
        "  u'likes': None,\n",
        "  u'link_flair_css_class': None,\n",
        "  u'link_flair_text': None,\n",
        "  u'media': None,\n",
        "  u'media_embed': {},\n",
        "  u'name': u't3_27k0mh',\n",
        "  u'num_comments': 401,\n",
        "  u'num_reports': None,\n",
        "  u'over_18': False,\n",
        "  u'permalink': u'/r/funny/comments/27k0mh/yes_i_see_your_point/',\n",
        "  u'saved': False,\n",
        "  u'score': 4106,\n",
        "  u'secure_media': None,\n",
        "  u'secure_media_embed': {},\n",
        "  u'selftext': u'',\n",
        "  u'selftext_html': None,\n",
        "  u'stickied': False,\n",
        "  u'subreddit': u'funny',\n",
        "  u'subreddit_id': u't5_2qh33',\n",
        "  u'thumbnail': u'http://b.thumbs.redditmedia.com/mpPxfX106izfAu8G.jpg',\n",
        "  u'title': u'Yes, I see your point',\n",
        "  u'ups': 18584,\n",
        "  u'url': u'https://i.imgur.com/oW53SZR.jpg',\n",
        "  u'visited': False},\n",
        " u'kind': u't3'}"
       ]
      }
     ],
     "prompt_number": 25
    },
    {
     "cell_type": "code",
     "collapsed": false,
     "input": [
      "import urllib\n",
      "\n",
      "def get_historical_prices(symbol, start_date, end_date):\n",
      "    \"\"\"\n",
      "    Get historical prices for the given ticker symbol.\n",
      "    Date format is 'YYYYMMDD'\n",
      "    \n",
      "    Returns a json list.\n",
      "    \"\"\"\n",
      "    url = 'http://ichart.yahoo.com/table.csv?s=%s&' % symbol + \\\n",
      "          'd=%s&' % str(int(end_date[4:6]) - 1) + \\\n",
      "          'e=%s&' % str(int(end_date[6:8])) + \\\n",
      "          'f=%s&' % str(int(end_date[0:4])) + \\\n",
      "          'g=d&' + \\\n",
      "          'a=%s&' % str(int(start_date[4:6]) - 1) + \\\n",
      "          'b=%s&' % str(int(start_date[6:8])) + \\\n",
      "          'c=%s&' % str(int(start_date[0:4])) + \\\n",
      "          'ignore=.csv'\n",
      "    days = urllib.urlopen(url).readlines()\n",
      "    data = [day[:-2].split(',') for day in days]\n",
      "    return data"
     ],
     "language": "python",
     "metadata": {},
     "outputs": [],
     "prompt_number": 26
    },
    {
     "cell_type": "code",
     "collapsed": false,
     "input": [
      "data = get_historical_prices('GOOG', '20140101', '20140106')\n",
      "print data"
     ],
     "language": "python",
     "metadata": {},
     "outputs": [
      {
       "output_type": "stream",
       "stream": "stdout",
       "text": [
        "[['<!doctype html public \"-//W3C//DTD HTML 4.01//EN\" \"http://www.w3.org/TR/html4/strict.dtd\"'], ['<html><head><title>Yahoo! - 404 Not Found</title><style'], ['/* nn4 hide */'], ['/*/*'], ['body {font:small/1.2em arial', 'helvetica', 'clean', 'sans-serif;font:x-small;text-align:center;}table {font-size:inherit;font:x-small;'], ['html>body {font:83%/1.2em arial', 'helvetica', 'clean', 'sans-serif;}input {font-size:100%;vertical-align:middle;}p', ' form {margin:0;padding:0;'], ['p {padding-bottom:6px;margin-bottom:10px;}#doc {width:48.5em;margin:0 auto;border:1px solid #fff;text-align:center;}#ygma {text-align:right;margin-bottom:53px'], ['#ygma img {float:left;}#ygma div {border-bottom:1px solid #ccc;padding-bottom:8px;margin-left:152px;}#bd {clear:both;text-align:left;width:75%;margin:0 auto 20px;'], ['h1 {font-size:135%;text-align:center;margin:0 0 15px;}legend {display:none;}fieldset {border:0 solid #fff;padding:.8em 0 .8em 4.5em;'], ['form {position:relative;background:#eee;margin-bottom:15px;border:1px solid #ccc;border-width:1px 0;'], ['#s1p {width:15em;margin-right:.1em;'], ['form span {position:absolute;left:70%;top:.8em;}form a {font:78%/1.2em arial;display:block;padding-left:.8em;white-space:nowrap;background: url(http://l.yimg.com/a/i/s/bullet.gif) no-repeat left center;}'], ['form .sep {display:none;}.more {text-align:center;}#ft {padding-top:10px;border-top:1px solid #999;}#ft p {text-align:center;font:78% arial;'], ['/* end nn4 hide *'], ['</style></head'], ['<body><div id=\"doc\"'], ['<div id=\"ygma\"><a href=\"http://us.rd.yahoo.com/404/*http://www.yahoo.com\"><im'], ['src=http://l.yimg.com/a/i/yahoo.gi'], ['width=147 height=31 border=0 alt=\"Yahoo!\"></a><div><'], ['href=\"http://us.rd.yahoo.com/404/*http://www.yahoo.com\">Yahoo!</a'], [' - <a href=\"http://us.rd.yahoo.com/404/*http://help.yahoo.com\">Help</a></div></div'], ['<div id=\"bd\"><h1>Sorry', ' the page you requested was not found.</h1'], ['<p>Please check the URL for proper spelling and capitalization. I'], [\"you're having trouble locating a destination on Yahoo!\", ' try visiting th'], ['<strong><'], ['href=\"http://us.rd.yahoo.com/404/*http://www.yahoo.com\">Yahoo! hom'], ['page</a></strong> or look through a list of <strong><'], ['href=\"http://us.rd.yahoo.com/404/*http://docs.yahoo.com/docs/family/more/\">Yahoo!\\''], ['online services</a></strong>. Also', \" you may find what you're looking fo\"], ['if you try searching below.</p'], ['<form name=\"s1\" action=\"http://us.rd.yahoo.com/404/*-http://search.yahoo.com/search\"><fieldset'], ['<legend><label for=\"s1p\">Search the Web</label></legend'], ['<input type=\"text\" size=30 name=\"p\" id=\"s1p\" title=\"enter search terms here\"'], ['<input type=\"submit\" value=\"Search\"'], ['<span><a href=\"http://us.rd.yahoo.com/404/*http://search.yahoo.com/search/options?p=\">advanced search</a> <span class=sep>|</span> <a href=\"http://us.rd.yahoo.com/404/*http://buzz.yahoo.com\">most popular</a></span'], ['</fieldset></form'], ['<p class=\"more\">Please try <strong><'], ['href=\"http://us.rd.yahoo.com/404/*http://help.yahoo.com\">Yahoo'], ['Help Central</a></strong> if you need more assistance.</p'], ['</div><div id=\"ft\"><p>Copyright &copy; 2014 Yahoo! Inc'], ['All rights reserved. <'], ['href=\"http://us.rd.yahoo.com/404/*http://privacy.yahoo.com\">Privac'], ['Policy</a> - <'], ['href=\"http://us.rd.yahoo.com/404/*http://docs.yahoo.com/info/terms/\">Term'], ['of Service</a></p></div'], ['</div></body></html']]\n"
       ]
      }
     ],
     "prompt_number": 27
    },
    {
     "cell_type": "code",
     "collapsed": false,
     "input": [
      "# obtain the prices of Yahoo for the past month and insert them in a Pandas Dataframe\n",
      "\n",
      "prices = get_historical_prices('YHOO', '20140217', '20140317')\n",
      "\n",
      "df = pd.DataFrame(prices[1:], columns= prices[0], dtype=int).set_index('Date')\n",
      "df.head()"
     ],
     "language": "python",
     "metadata": {},
     "outputs": [
      {
       "html": [
        "<div style=\"max-height:1000px;max-width:1500px;overflow:auto;\">\n",
        "<table border=\"1\" class=\"dataframe\">\n",
        "  <thead>\n",
        "    <tr style=\"text-align: right;\">\n",
        "      <th></th>\n",
        "      <th>Open</th>\n",
        "      <th>High</th>\n",
        "      <th>Low</th>\n",
        "      <th>Close</th>\n",
        "      <th>Volume</th>\n",
        "      <th>Adj Clos</th>\n",
        "    </tr>\n",
        "    <tr>\n",
        "      <th>Date</th>\n",
        "      <th></th>\n",
        "      <th></th>\n",
        "      <th></th>\n",
        "      <th></th>\n",
        "      <th></th>\n",
        "      <th></th>\n",
        "    </tr>\n",
        "  </thead>\n",
        "  <tbody>\n",
        "    <tr>\n",
        "      <th>2014-03-17</th>\n",
        "      <td> 39.00</td>\n",
        "      <td> 39.36</td>\n",
        "      <td> 38.61</td>\n",
        "      <td> 39.11</td>\n",
        "      <td> 29698300</td>\n",
        "      <td> 39.1</td>\n",
        "    </tr>\n",
        "    <tr>\n",
        "      <th>2014-03-14</th>\n",
        "      <td> 36.69</td>\n",
        "      <td> 38.19</td>\n",
        "      <td> 36.45</td>\n",
        "      <td> 37.60</td>\n",
        "      <td> 30862300</td>\n",
        "      <td> 37.6</td>\n",
        "    </tr>\n",
        "    <tr>\n",
        "      <th>2014-03-13</th>\n",
        "      <td> 38.05</td>\n",
        "      <td> 38.42</td>\n",
        "      <td> 36.81</td>\n",
        "      <td> 37.23</td>\n",
        "      <td> 21179700</td>\n",
        "      <td> 37.2</td>\n",
        "    </tr>\n",
        "    <tr>\n",
        "      <th>2014-03-12</th>\n",
        "      <td> 37.21</td>\n",
        "      <td> 37.61</td>\n",
        "      <td> 36.48</td>\n",
        "      <td> 37.50</td>\n",
        "      <td> 14794700</td>\n",
        "      <td> 37.5</td>\n",
        "    </tr>\n",
        "    <tr>\n",
        "      <th>2014-03-11</th>\n",
        "      <td> 38.25</td>\n",
        "      <td> 38.30</td>\n",
        "      <td> 37.43</td>\n",
        "      <td> 37.56</td>\n",
        "      <td> 12592300</td>\n",
        "      <td> 37.5</td>\n",
        "    </tr>\n",
        "  </tbody>\n",
        "</table>\n",
        "<p>5 rows \u00d7 6 columns</p>\n",
        "</div>"
       ],
       "metadata": {},
       "output_type": "pyout",
       "prompt_number": 28,
       "text": [
        "             Open   High    Low  Close    Volume Adj Clos\n",
        "Date                                                     \n",
        "2014-03-17  39.00  39.36  38.61  39.11  29698300     39.1\n",
        "2014-03-14  36.69  38.19  36.45  37.60  30862300     37.6\n",
        "2014-03-13  38.05  38.42  36.81  37.23  21179700     37.2\n",
        "2014-03-12  37.21  37.61  36.48  37.50  14794700     37.5\n",
        "2014-03-11  38.25  38.30  37.43  37.56  12592300     37.5\n",
        "\n",
        "[5 rows x 6 columns]"
       ]
      }
     ],
     "prompt_number": 28
    },
    {
     "cell_type": "code",
     "collapsed": false,
     "input": [
      "df.info()"
     ],
     "language": "python",
     "metadata": {},
     "outputs": [
      {
       "output_type": "stream",
       "stream": "stdout",
       "text": [
        "<class 'pandas.core.frame.DataFrame'>\n",
        "Index: 20 entries, 2014-03-17 to 2014-02-18\n",
        "Data columns (total 6 columns):\n",
        "Open        20 non-null object\n",
        "High        20 non-null object\n",
        "Low         20 non-null object\n",
        "Close       20 non-null object\n",
        "Volume      20 non-null int64\n",
        "Adj Clos    20 non-null object\n",
        "dtypes: int64(1), object(5)"
       ]
      }
     ],
     "prompt_number": 29
    },
    {
     "cell_type": "code",
     "collapsed": false,
     "input": [
      "# use the DataFrame method plot() to plot the Open, High, Low, Close curves\n",
      "\n",
      "df.Open[0]"
     ],
     "language": "python",
     "metadata": {},
     "outputs": [
      {
       "metadata": {},
       "output_type": "pyout",
       "prompt_number": 30,
       "text": [
        "'39.00'"
       ]
      }
     ],
     "prompt_number": 30
    },
    {
     "cell_type": "heading",
     "level": 1,
     "metadata": {
      "slideshow": {
       "slide_type": "slide"
      }
     },
     "source": [
      "Twitter API"
     ]
    },
    {
     "cell_type": "markdown",
     "metadata": {
      "slideshow": {
       "slide_type": "notes"
      }
     },
     "source": [
      "Twitter has no less than 10 python libraries. We'll be using Python Twitter Tools because it's what's used in Mining the Social Web."
     ]
    },
    {
     "cell_type": "markdown",
     "metadata": {
      "slideshow": {
       "slide_type": "skip"
      }
     },
     "source": [
      "#### Some services (like Twitter) have released Python libraries of their own to make using their API even easier.\n"
     ]
    },
    {
     "cell_type": "code",
     "collapsed": false,
     "input": [
      "!pip install twitter"
     ],
     "language": "python",
     "metadata": {},
     "outputs": [
      {
       "output_type": "stream",
       "stream": "stdout",
       "text": [
        "Requirement already satisfied (use --upgrade to upgrade): twitter in /anaconda/lib/python2.7/site-packages\r\n",
        "Cleaning up...\r\n"
       ]
      }
     ],
     "prompt_number": 31
    },
    {
     "cell_type": "markdown",
     "metadata": {},
     "source": [
      "Here are the instructions on how to get your own keys\n",
      "https://dev.twitter.com/docs/auth/tokens-devtwittercom"
     ]
    },
    {
     "cell_type": "code",
     "collapsed": false,
     "input": [
      "# CONSUMER_KEY = 'kU89M3iTVbkNhnA7b1WD9A'\n",
      "# CONSUMER_SECRET ='E2erSrX5DeUByOzm2Rn4uI1SsXI2v7UTvWSDe4sDs'\n",
      "# OAUTH_TOKEN = '54150531-lrpWlsun1FSq4zU81fFK03UFwLZPAfOYSr3zzY68T'\n",
      "# OAUTH_TOKEN_SECRET = '8JzJx1kPv3l6rq4IBFgPZYyUloMzcPKr2r7SrBstCmiz6'"
     ],
     "language": "python",
     "metadata": {},
     "outputs": [],
     "prompt_number": 32
    },
    {
     "cell_type": "code",
     "collapsed": false,
     "input": [
      "CONSUMER_KEY = 'hbwxP2s76aWJ1tC1hxXXv9n3B'\n",
      "CONSUMER_SECRET ='K4iCWnrnZ5Z4VbiSAuEfbyrs5DYJYYGptzmvlMqHnf4qaQiTGE'\n",
      "OAUTH_TOKEN = '284204571-0kKghHzkO1aoq70dP90v2BdxCQVO1JTJvqtXspvF'\n",
      "OAUTH_TOKEN_SECRET = 'XwTD3JJkONF9jnZITKRIAlgZ4wJPeBzyjqtuzPsjTNDh7'"
     ],
     "language": "python",
     "metadata": {},
     "outputs": [],
     "prompt_number": 33
    },
    {
     "cell_type": "code",
     "collapsed": false,
     "input": [
      "import twitter\n",
      "\n",
      "auth = twitter.oauth.OAuth(OAUTH_TOKEN, \n",
      "                           OAUTH_TOKEN_SECRET,\n",
      "                           CONSUMER_KEY,\n",
      "                           CONSUMER_SECRET)\n",
      "\n",
      "twitter_api = twitter.Twitter(auth=auth)\n",
      "\n",
      "print twitter_api"
     ],
     "language": "python",
     "metadata": {
      "slideshow": {
       "slide_type": "slide"
      }
     },
     "outputs": [
      {
       "output_type": "stream",
       "stream": "stdout",
       "text": [
        "<twitter.api.Twitter object at 0x1036d2b10>\n"
       ]
      }
     ],
     "prompt_number": 34
    },
    {
     "cell_type": "markdown",
     "metadata": {
      "slideshow": {
       "slide_type": "skip"
      }
     },
     "source": [
      "#### Using a library like this, we don't even need to specify the URL (that's handled internally)."
     ]
    },
    {
     "cell_type": "markdown",
     "metadata": {
      "slideshow": {
       "slide_type": "slide"
      }
     },
     "source": [
      "Using a library like this, it's easy to do something like search for tweets mentioning `#bigdata`  \n",
      "\n",
      "The results are transformed into a Python object (which in this case is a thin wrapper around a `dict`)"
     ]
    },
    {
     "cell_type": "code",
     "collapsed": false,
     "input": [
      "bigdata = twitter_api.search.tweets(q='#2chainz', count=5)\n",
      "type(bigdata)\n",
      "print bigdata"
     ],
     "language": "python",
     "metadata": {
      "slideshow": {
       "slide_type": "fragment"
      }
     },
     "outputs": [
      {
       "output_type": "stream",
       "stream": "stdout",
       "text": [
        "{u'search_metadata': {u'count': 5, u'completed_in': 0.009, u'max_id_str': u'475395146544984064', u'since_id_str': u'0', u'next_results': u'?max_id=475386880075116543&q=%232chainz&count=5&include_entities=1', u'refresh_url': u'?since_id=475395146544984064&q=%232chainz&include_entities=1', u'since_id': 0, u'query': u'%232chainz', u'max_id': 475395146544984064}, u'statuses': [{u'contributors': None, u'truncated': False, u'text': u\"Twitter analysis on #2chainz. That's why I love classes at @GA_SF\", u'in_reply_to_status_id': None, u'id': 475395146544984064, u'favorite_count': 0, u'source': u'<a href=\"http://twitter.com\" rel=\"nofollow\">Twitter Web Client</a>', u'retweeted': False, u'coordinates': None, u'entities': {u'symbols': [], u'user_mentions': [{u'id': 622481328, u'indices': [59, 65], u'id_str': u'622481328', u'screen_name': u'GA_SF', u'name': u'General Assembly SF'}], u'hashtags': [{u'indices': [20, 28], u'text': u'2chainz'}], u'urls': []}, u'in_reply_to_screen_name': None, u'in_reply_to_user_id': None, u'retweet_count': 0, u'id_str': u'475395146544984064', u'favorited': False, u'user': {u'follow_request_sent': False, u'profile_use_background_image': True, u'default_profile_image': False, u'id': 1652009761, u'profile_background_image_url_https': u'https://abs.twimg.com/images/themes/theme1/bg.png', u'verified': False, u'profile_text_color': u'333333', u'profile_image_url_https': u'https://pbs.twimg.com/profile_images/438785902316240896/lI4YXb-G_normal.jpeg', u'profile_sidebar_fill_color': u'DDEEF6', u'entities': {u'description': {u'urls': []}}, u'followers_count': 18, u'profile_sidebar_border_color': u'C0DEED', u'id_str': u'1652009761', u'profile_background_color': u'C0DEED', u'listed_count': 3, u'is_translation_enabled': False, u'utc_offset': None, u'statuses_count': 64, u'description': u'Marketing Data Junkie @beckoninc', u'friends_count': 43, u'location': u'San Mateo, CA', u'profile_link_color': u'0084B4', u'profile_image_url': u'http://pbs.twimg.com/profile_images/438785902316240896/lI4YXb-G_normal.jpeg', u'following': False, u'geo_enabled': False, u'profile_banner_url': u'https://pbs.twimg.com/profile_banners/1652009761/1375849050', u'profile_background_image_url': u'http://abs.twimg.com/images/themes/theme1/bg.png', u'screen_name': u'SVDataGuy', u'lang': u'en', u'profile_background_tile': False, u'favourites_count': 3, u'name': u'Steven Dalcin', u'notifications': False, u'url': None, u'created_at': u'Wed Aug 07 04:07:44 +0000 2013', u'contributors_enabled': False, u'time_zone': None, u'protected': False, u'default_profile': True, u'is_translator': False}, u'geo': None, u'in_reply_to_user_id_str': None, u'lang': u'en', u'created_at': u'Sat Jun 07 21:53:30 +0000 2014', u'in_reply_to_status_id_str': None, u'place': None, u'metadata': {u'iso_language_code': u'en', u'result_type': u'recent'}}, {u'contributors': None, u'truncated': False, u'text': u'@2chainz ft @tydollasign \"They Know\" #musicvideo. #2chainz #tydollasign #theyknow #rap #newsong\\u2026 http://t.co/EoCU1YkIcI', u'in_reply_to_status_id': None, u'id': 475390943164923905, u'favorite_count': 1, u'source': u'<a href=\"http://instagram.com\" rel=\"nofollow\">Instagram</a>', u'retweeted': False, u'coordinates': None, u'entities': {u'symbols': [], u'user_mentions': [{u'id': 185487499, u'indices': [0, 8], u'id_str': u'185487499', u'screen_name': u'2chainz', u'name': u'Tity Boi (2 Chainz)'}, {u'id': 25932445, u'indices': [12, 24], u'id_str': u'25932445', u'screen_name': u'tydollasign', u'name': u'Ty Dolla $ign'}], u'hashtags': [{u'indices': [37, 48], u'text': u'musicvideo'}, {u'indices': [50, 58], u'text': u'2chainz'}, {u'indices': [59, 71], u'text': u'tydollasign'}, {u'indices': [72, 81], u'text': u'theyknow'}, {u'indices': [82, 86], u'text': u'rap'}, {u'indices': [87, 95], u'text': u'newsong'}], u'urls': [{u'url': u'http://t.co/EoCU1YkIcI', u'indices': [97, 119], u'expanded_url': u'http://instagram.com/p/o9SygrO6xy/', u'display_url': u'instagram.com/p/o9SygrO6xy/'}]}, u'in_reply_to_screen_name': u'2chainz', u'in_reply_to_user_id': 185487499, u'retweet_count': 0, u'id_str': u'475390943164923905', u'favorited': False, u'user': {u'follow_request_sent': False, u'profile_use_background_image': True, u'default_profile_image': False, u'id': 2452751318, u'profile_background_image_url_https': u'https://abs.twimg.com/images/themes/theme1/bg.png', u'verified': False, u'profile_text_color': u'333333', u'profile_image_url_https': u'https://pbs.twimg.com/profile_images/457431858800648193/SNen17jU_normal.jpeg', u'profile_sidebar_fill_color': u'DDEEF6', u'entities': {u'url': {u'urls': [{u'url': u'http://t.co/D5XhP2IhSA', u'indices': [0, 22], u'expanded_url': u'http://instagram.com/musicdailyfeed/', u'display_url': u'instagram.com/musicdailyfeed/'}]}, u'description': {u'urls': []}}, u'followers_count': 79, u'profile_sidebar_border_color': u'C0DEED', u'id_str': u'2452751318', u'profile_background_color': u'C0DEED', u'listed_count': 0, u'is_translation_enabled': False, u'utc_offset': None, u'statuses_count': 139, u'description': u'Your daily music feed. All music is beautiful. A new way to discover music', u'friends_count': 167, u'location': u'Global ', u'profile_link_color': u'0084B4', u'profile_image_url': u'http://pbs.twimg.com/profile_images/457431858800648193/SNen17jU_normal.jpeg', u'following': False, u'geo_enabled': False, u'profile_banner_url': u'https://pbs.twimg.com/profile_banners/2452751318/1397896577', u'profile_background_image_url': u'http://abs.twimg.com/images/themes/theme1/bg.png', u'screen_name': u'MusicDailyFeed', u'lang': u'en', u'profile_background_tile': False, u'favourites_count': 25, u'name': u'MusicDailyFeed', u'notifications': False, u'url': u'http://t.co/D5XhP2IhSA', u'created_at': u'Sat Apr 19 07:51:57 +0000 2014', u'contributors_enabled': False, u'time_zone': None, u'protected': False, u'default_profile': True, u'is_translator': False}, u'geo': None, u'in_reply_to_user_id_str': u'185487499', u'possibly_sensitive': False, u'lang': u'en', u'created_at': u'Sat Jun 07 21:36:47 +0000 2014', u'in_reply_to_status_id_str': None, u'place': None, u'metadata': {u'iso_language_code': u'en', u'result_type': u'recent'}}, {u'contributors': None, u'truncated': False, u'text': u'RT @UnrevealedFact_: Rappers often suffer from schizophrenia, causing an unsatiable need to constantly say their own name. #2Chainz', u'in_reply_to_status_id': None, u'id': 475389726585659393, u'favorite_count': 0, u'source': u'<a href=\"http://twitter.com/download/iphone\" rel=\"nofollow\">Twitter for iPhone</a>', u'retweeted': False, u'coordinates': None, u'entities': {u'symbols': [], u'user_mentions': [{u'id': 396957509, u'indices': [3, 19], u'id_str': u'396957509', u'screen_name': u'UnrevealedFact_', u'name': u'Unrevealed Facts'}], u'hashtags': [{u'indices': [123, 131], u'text': u'2Chainz'}], u'urls': []}, u'in_reply_to_screen_name': None, u'in_reply_to_user_id': None, u'retweet_count': 16, u'id_str': u'475389726585659393', u'favorited': False, u'retweeted_status': {u'contributors': None, u'truncated': False, u'text': u'Rappers often suffer from schizophrenia, causing an unsatiable need to constantly say their own name. #2Chainz', u'in_reply_to_status_id': None, u'id': 474657650777411585, u'favorite_count': 11, u'source': u'<a href=\"https://about.twitter.com/products/tweetdeck\" rel=\"nofollow\">TweetDeck</a>', u'retweeted': False, u'coordinates': None, u'entities': {u'symbols': [], u'user_mentions': [], u'hashtags': [{u'indices': [102, 110], u'text': u'2Chainz'}], u'urls': []}, u'in_reply_to_screen_name': None, u'in_reply_to_user_id': None, u'retweet_count': 16, u'id_str': u'474657650777411585', u'favorited': False, u'user': {u'follow_request_sent': False, u'profile_use_background_image': False, u'default_profile_image': False, u'id': 396957509, u'profile_background_image_url_https': u'https://abs.twimg.com/images/themes/theme10/bg.gif', u'verified': False, u'profile_text_color': u'3D1957', u'profile_image_url_https': u'https://pbs.twimg.com/profile_images/427151782129569792/WcqrvdI8_normal.jpeg', u'profile_sidebar_fill_color': u'7AC3EE', u'entities': {u'description': {u'urls': []}}, u'followers_count': 117917, u'profile_sidebar_border_color': u'FFFFFF', u'id_str': u'396957509', u'profile_background_color': u'28998A', u'listed_count': 265, u'is_translation_enabled': False, u'utc_offset': 19800, u'statuses_count': 213, u'description': u'Jaw Dropping Facts that you would have never ever known.', u'friends_count': 653, u'location': u'United States', u'profile_link_color': u'EB1532', u'profile_image_url': u'http://pbs.twimg.com/profile_images/427151782129569792/WcqrvdI8_normal.jpeg', u'following': False, u'geo_enabled': True, u'profile_banner_url': u'https://pbs.twimg.com/profile_banners/396957509/1390675987', u'profile_background_image_url': u'http://abs.twimg.com/images/themes/theme10/bg.gif', u'screen_name': u'UnrevealedFact_', u'lang': u'en', u'profile_background_tile': True, u'favourites_count': 10, u'name': u'Unrevealed Facts', u'notifications': False, u'url': None, u'created_at': u'Mon Oct 24 01:13:55 +0000 2011', u'contributors_enabled': False, u'time_zone': u'New Delhi', u'protected': False, u'default_profile': False, u'is_translator': False}, u'geo': None, u'in_reply_to_user_id_str': None, u'lang': u'en', u'created_at': u'Thu Jun 05 21:02:57 +0000 2014', u'in_reply_to_status_id_str': None, u'place': None, u'metadata': {u'iso_language_code': u'en', u'result_type': u'recent'}}, u'user': {u'follow_request_sent': False, u'profile_use_background_image': True, u'default_profile_image': False, u'id': 426768892, u'profile_background_image_url_https': u'https://abs.twimg.com/images/themes/theme6/bg.gif', u'verified': False, u'profile_text_color': u'333333', u'profile_image_url_https': u'https://pbs.twimg.com/profile_images/1669940056/tigers_4920m_normal.jpg', u'profile_sidebar_fill_color': u'A0C5C7', u'entities': {u'description': {u'urls': []}}, u'followers_count': 104, u'profile_sidebar_border_color': u'86A4A6', u'id_str': u'426768892', u'profile_background_color': u'709397', u'listed_count': 0, u'is_translation_enabled': False, u'utc_offset': 10800, u'statuses_count': 674, u'description': u'\\u0627\\u062d\\u0641\\u0638 \\u062f\\u0631\\u0633\\u0643 \\u062c\\u064a\\u062f\\u0627 \\u062d\\u062a\\u0649 \\u0644\\u0627 \\u062a\\u0636\\u0637\\u0631 \\u0627\\u0644\\u062d\\u064a\\u0627\\u0629 \\u0627\\u0646 \\u062a\\u0639\\u064a\\u062f\\u0647 \\u0644\\u0643 \\u0628\\u0634\\u0643\\u0644 \\u0623\\u0642\\u0633\\u0649\\n\\u0639\\u0634\\u0642\\u064a \\u0627\\u062b\\u0646\\u0627\\u0646 .. \\u062c\\u062f\\u0629 \\u0648\\u0627\\u0644\\u0627\\u062a\\u062d\\u0627\\u062f \\u2764\\ufe0f', u'friends_count': 248, u'location': u'jeddah', u'profile_link_color': u'FF3300', u'profile_image_url': u'http://pbs.twimg.com/profile_images/1669940056/tigers_4920m_normal.jpg', u'following': False, u'geo_enabled': False, u'profile_background_image_url': u'http://abs.twimg.com/images/themes/theme6/bg.gif', u'screen_name': u'shoshmania', u'lang': u'en', u'profile_background_tile': False, u'favourites_count': 6, u'name': u'shuroog', u'notifications': False, u'url': None, u'created_at': u'Fri Dec 02 17:30:08 +0000 2011', u'contributors_enabled': False, u'time_zone': u'Riyadh', u'protected': False, u'default_profile': False, u'is_translator': False}, u'geo': None, u'in_reply_to_user_id_str': None, u'lang': u'en', u'created_at': u'Sat Jun 07 21:31:57 +0000 2014', u'in_reply_to_status_id_str': None, u'place': None, u'metadata': {u'iso_language_code': u'en', u'result_type': u'recent'}}, {u'contributors': None, u'truncated': False, u'text': u'Yo dad was a mothafuckin snitch so nigga you were born a witness #fr33bas3 #freebase #2chainz #theyknow', u'in_reply_to_status_id': None, u'id': 475387476962336769, u'favorite_count': 0, u'source': u'<a href=\"http://twitter.com/download/iphone\" rel=\"nofollow\">Twitter for iPhone</a>', u'retweeted': False, u'coordinates': None, u'entities': {u'symbols': [], u'user_mentions': [], u'hashtags': [{u'indices': [65, 74], u'text': u'fr33bas3'}, {u'indices': [75, 84], u'text': u'freebase'}, {u'indices': [85, 93], u'text': u'2chainz'}, {u'indices': [94, 103], u'text': u'theyknow'}], u'urls': []}, u'in_reply_to_screen_name': None, u'in_reply_to_user_id': None, u'retweet_count': 0, u'id_str': u'475387476962336769', u'favorited': False, u'user': {u'follow_request_sent': False, u'profile_use_background_image': True, u'default_profile_image': False, u'id': 264042054, u'profile_background_image_url_https': u'https://abs.twimg.com/images/themes/theme1/bg.png', u'verified': False, u'profile_text_color': u'333333', u'profile_image_url_https': u'https://pbs.twimg.com/profile_images/473967337884766208/OYsTy8uD_normal.jpeg', u'profile_sidebar_fill_color': u'DDEEF6', u'entities': {u'url': {u'urls': [{u'url': u'http://t.co/TaupwMj1zj', u'indices': [0, 22], u'expanded_url': u'http://www.facebook.com/shakaZULU15', u'display_url': u'facebook.com/shakaZULU15'}]}, u'description': {u'urls': []}}, u'followers_count': 24, u'profile_sidebar_border_color': u'C0DEED', u'id_str': u'264042054', u'profile_background_color': u'C0DEED', u'listed_count': 0, u'is_translation_enabled': False, u'utc_offset': -25200, u'statuses_count': 2557, u'description': u'Mulatto, massage therapist.\\n\\u2648\\ufe0f\\nFollow Me.', u'friends_count': 62, u'location': u'Cornelius', u'profile_link_color': u'0084B4', u'profile_image_url': u'http://pbs.twimg.com/profile_images/473967337884766208/OYsTy8uD_normal.jpeg', u'following': False, u'geo_enabled': True, u'profile_banner_url': u'https://pbs.twimg.com/profile_banners/264042054/1401837594', u'profile_background_image_url': u'http://abs.twimg.com/images/themes/theme1/bg.png', u'screen_name': u'ShakaZuluu15', u'lang': u'en', u'profile_background_tile': False, u'favourites_count': 40, u'name': u'Jordan Mitchell', u'notifications': False, u'url': u'http://t.co/TaupwMj1zj', u'created_at': u'Fri Mar 11 06:39:41 +0000 2011', u'contributors_enabled': False, u'time_zone': u'Arizona', u'protected': False, u'default_profile': True, u'is_translator': False}, u'geo': None, u'in_reply_to_user_id_str': None, u'lang': u'en', u'created_at': u'Sat Jun 07 21:23:01 +0000 2014', u'in_reply_to_status_id_str': None, u'place': None, u'metadata': {u'iso_language_code': u'en', u'result_type': u'recent'}}, {u'contributors': None, u'truncated': False, u'text': u'I love when #TalkDirty is on the radio\\n I love both versions too. #JasonDerulo #2chainz #saxophone', u'in_reply_to_status_id': None, u'id': 475386880075116544, u'favorite_count': 0, u'source': u'<a href=\"http://twitter.com/download/android\" rel=\"nofollow\">Twitter for Android</a>', u'retweeted': False, u'coordinates': None, u'entities': {u'symbols': [], u'user_mentions': [], u'hashtags': [{u'indices': [12, 22], u'text': u'TalkDirty'}, {u'indices': [66, 78], u'text': u'JasonDerulo'}, {u'indices': [79, 87], u'text': u'2chainz'}, {u'indices': [88, 98], u'text': u'saxophone'}], u'urls': []}, u'in_reply_to_screen_name': None, u'in_reply_to_user_id': None, u'retweet_count': 0, u'id_str': u'475386880075116544', u'favorited': False, u'user': {u'follow_request_sent': False, u'profile_use_background_image': True, u'default_profile_image': False, u'id': 260883722, u'profile_background_image_url_https': u'https://abs.twimg.com/images/themes/theme4/bg.gif', u'verified': False, u'profile_text_color': u'3C3940', u'profile_image_url_https': u'https://pbs.twimg.com/profile_images/472226039171538944/s4r5jf_s_normal.jpeg', u'profile_sidebar_fill_color': u'95E8EC', u'entities': {u'url': {u'urls': [{u'url': u'http://t.co/NL37V66z0I', u'indices': [0, 22], u'expanded_url': u'http://www.marykay.com/bmeriwether', u'display_url': u'marykay.com/bmeriwether'}]}, u'description': {u'urls': []}}, u'followers_count': 154, u'profile_sidebar_border_color': u'5ED4DC', u'id_str': u'260883722', u'profile_background_color': u'0099B9', u'listed_count': 0, u'is_translation_enabled': False, u'utc_offset': -21600, u'statuses_count': 6016, u'description': u'passion, adventure & a little danger.', u'friends_count': 140, u'location': u'Florida.', u'profile_link_color': u'0099B9', u'profile_image_url': u'http://pbs.twimg.com/profile_images/472226039171538944/s4r5jf_s_normal.jpeg', u'following': False, u'geo_enabled': False, u'profile_banner_url': u'https://pbs.twimg.com/profile_banners/260883722/1401421992', u'profile_background_image_url': u'http://abs.twimg.com/images/themes/theme4/bg.gif', u'screen_name': u'BranzXO', u'lang': u'en', u'profile_background_tile': False, u'favourites_count': 1006, u'name': u'KillahB3', u'notifications': False, u'url': u'http://t.co/NL37V66z0I', u'created_at': u'Fri Mar 04 20:19:36 +0000 2011', u'contributors_enabled': False, u'time_zone': u'Mountain Time (US & Canada)', u'protected': False, u'default_profile': False, u'is_translator': False}, u'geo': None, u'in_reply_to_user_id_str': None, u'lang': u'en', u'created_at': u'Sat Jun 07 21:20:39 +0000 2014', u'in_reply_to_status_id_str': None, u'place': None, u'metadata': {u'iso_language_code': u'en', u'result_type': u'recent'}}]}\n"
       ]
      }
     ],
     "prompt_number": 40
    },
    {
     "cell_type": "code",
     "collapsed": false,
     "input": [
      "for status in bigdata['statuses']:\n",
      "    print status.get('text')"
     ],
     "language": "python",
     "metadata": {
      "slideshow": {
       "slide_type": "fragment"
      }
     },
     "outputs": [
      {
       "output_type": "stream",
       "stream": "stdout",
       "text": [
        "#prato con #instagram mi son divertito a raccontare la citt\u00e0 di #igersprato @igers_prato #bigdata #opendata #dataviz http://t.co/H5rGfQLsfx\n",
        "French #computerscience student joins Pivotal, @EMCcorp, and @GSoC on Clustering Algorithms http://t.co/WjroQEPw9e #BigData\n",
        "A technology used to make games run faster can now help solve agencies\u2019 #BigData challenges: http://t.co/dlg4fPf6KF via #GPU #OLCF #HPC\n",
        "RT @BillRuh_GE: #industrialinternet opportunities: from better business to better planet  #Bigdata http://t.co/pZWzhHNCJm\n",
        "Blown away by @aral at #TDC14 read more about him &amp; @indie_phone here http://t.co/dui9Mr5c1H #privacymatters #bigdata\n"
       ]
      }
     ],
     "prompt_number": 6
    },
    {
     "cell_type": "markdown",
     "metadata": {
      "slideshow": {
       "slide_type": "slide"
      }
     },
     "source": [
      "# Twitter lab\n",
      "[http://tinyurl.com/GAtwitterlab](http://nbviewer.ipython.org/github/ptwobrussell/Mining-the-Social-Web-2nd-Edition/blob/master/ipynb/Chapter%201%20-%20Mining%20Twitter.ipynb) up through Exercise 5"
     ]
    },
    {
     "cell_type": "markdown",
     "metadata": {},
     "source": [
      "Useful links:\n",
      "\n",
      "[Mining the Social Web](https://github.com/ptwobrussell/Mining-the-Social-Web-2nd-Edition)"
     ]
    },
    {
     "cell_type": "code",
     "collapsed": false,
     "input": [
      "!pip install twitter"
     ],
     "language": "python",
     "metadata": {},
     "outputs": []
    },
    {
     "cell_type": "code",
     "collapsed": false,
     "input": [
      "import twitter"
     ],
     "language": "python",
     "metadata": {},
     "outputs": []
    },
    {
     "cell_type": "code",
     "collapsed": false,
     "input": [
      "CONSUMER_KEY = 'kU89M3iTVbkNhnA7b1WD9A'\n",
      "CONSUMER_SECRET ='E2erSrX5DeUByOzm2Rn4uI1SsXI2v7UTvWSDe4sDs'\n",
      "OAUTH_TOKEN = '54150531-lrpWlsun1FSq4zU81fFK03UFwLZPAfOYSr3zzY68T'\n",
      "OAUTH_TOKEN_SECRET = '8JzJx1kPv3l6rq4IBFgPZYyUloMzcPKr2r7SrBstCmiz6'"
     ],
     "language": "python",
     "metadata": {},
     "outputs": [],
     "prompt_number": 7
    },
    {
     "cell_type": "code",
     "collapsed": false,
     "input": [
      "auth = twitter.oauth.OAuth(OAUTH_TOKEN, OAUTH_TOKEN_SECRET,\n",
      "                           CONSUMER_KEY, CONSUMER_SECRET)\n",
      "\n",
      "twitter_api = twitter.Twitter(auth=auth)\n",
      "\n",
      "# Nothing to see by displaying twitter_api except that it's now a\n",
      "# defined variable\n",
      "\n",
      "print twitter_api"
     ],
     "language": "python",
     "metadata": {},
     "outputs": [
      {
       "output_type": "stream",
       "stream": "stdout",
       "text": [
        "<twitter.api.Twitter object at 0x105fa6350>\n"
       ]
      }
     ],
     "prompt_number": 9
    },
    {
     "cell_type": "code",
     "collapsed": false,
     "input": [
      "# The Yahoo! Where On Earth ID for the entire world is 1.\n",
      "# See https://dev.twitter.com/docs/api/1.1/get/trends/place and\n",
      "# http://developer.yahoo.com/geo/geoplanet/\n",
      "\n",
      "WORLD_WOE_ID = 1\n",
      "US_WOE_ID = 23424977\n",
      "\n",
      "# Prefix ID with the underscore for query string parameterization.\n",
      "# Without the underscore, the twitter package appends the ID value\n",
      "# to the URL itself as a special case keyword argument.\n",
      "\n",
      "world_trends = twitter_api.trends.place(_id=WORLD_WOE_ID)\n",
      "us_trends = twitter_api.trends.place(_id=US_WOE_ID)\n",
      "\n",
      "print world_trends\n",
      "print\n",
      "print us_trends"
     ],
     "language": "python",
     "metadata": {},
     "outputs": [
      {
       "ename": "TwitterHTTPError",
       "evalue": "Twitter sent status 401 for URL: 1.1/trends/place.json using parameters: (id=1&oauth_consumer_key=kU89M3iTVbkNhnA7b1WD9A&oauth_nonce=1823292528957952352&oauth_signature_method=HMAC-SHA1&oauth_timestamp=1402083697&oauth_token=54150531-lrpWlsun1FSq4zU81fFK03UFwLZPAfOYSr3zzY68T&oauth_version=1.0&oauth_signature=RGf3xs0C0cs%2BUGirFcAidXycSdg%3D)\ndetails: {\"errors\":[{\"message\":\"Could not authenticate you\",\"code\":32}]}",
       "output_type": "pyerr",
       "traceback": [
        "\u001b[0;31m---------------------------------------------------------------------------\u001b[0m\n\u001b[0;31mTwitterHTTPError\u001b[0m                          Traceback (most recent call last)",
        "\u001b[0;32m<ipython-input-10-227f21c6dda0>\u001b[0m in \u001b[0;36m<module>\u001b[0;34m()\u001b[0m\n\u001b[1;32m     10\u001b[0m \u001b[0;31m# to the URL itself as a special case keyword argument.\u001b[0m\u001b[0;34m\u001b[0m\u001b[0;34m\u001b[0m\u001b[0m\n\u001b[1;32m     11\u001b[0m \u001b[0;34m\u001b[0m\u001b[0m\n\u001b[0;32m---> 12\u001b[0;31m \u001b[0mworld_trends\u001b[0m \u001b[0;34m=\u001b[0m \u001b[0mtwitter_api\u001b[0m\u001b[0;34m.\u001b[0m\u001b[0mtrends\u001b[0m\u001b[0;34m.\u001b[0m\u001b[0mplace\u001b[0m\u001b[0;34m(\u001b[0m\u001b[0m_id\u001b[0m\u001b[0;34m=\u001b[0m\u001b[0mWORLD_WOE_ID\u001b[0m\u001b[0;34m)\u001b[0m\u001b[0;34m\u001b[0m\u001b[0m\n\u001b[0m\u001b[1;32m     13\u001b[0m \u001b[0mus_trends\u001b[0m \u001b[0;34m=\u001b[0m \u001b[0mtwitter_api\u001b[0m\u001b[0;34m.\u001b[0m\u001b[0mtrends\u001b[0m\u001b[0;34m.\u001b[0m\u001b[0mplace\u001b[0m\u001b[0;34m(\u001b[0m\u001b[0m_id\u001b[0m\u001b[0;34m=\u001b[0m\u001b[0mUS_WOE_ID\u001b[0m\u001b[0;34m)\u001b[0m\u001b[0;34m\u001b[0m\u001b[0m\n\u001b[1;32m     14\u001b[0m \u001b[0;34m\u001b[0m\u001b[0m\n",
        "\u001b[0;32m/Users/zack/anaconda/lib/python2.7/site-packages/twitter/api.pyc\u001b[0m in \u001b[0;36m__call__\u001b[0;34m(self, **kwargs)\u001b[0m\n\u001b[1;32m    243\u001b[0m \u001b[0;34m\u001b[0m\u001b[0m\n\u001b[1;32m    244\u001b[0m         \u001b[0mreq\u001b[0m \u001b[0;34m=\u001b[0m \u001b[0murllib_request\u001b[0m\u001b[0;34m.\u001b[0m\u001b[0mRequest\u001b[0m\u001b[0;34m(\u001b[0m\u001b[0muriBase\u001b[0m\u001b[0;34m,\u001b[0m \u001b[0mbody\u001b[0m\u001b[0;34m,\u001b[0m \u001b[0mheaders\u001b[0m\u001b[0;34m)\u001b[0m\u001b[0;34m\u001b[0m\u001b[0m\n\u001b[0;32m--> 245\u001b[0;31m         \u001b[0;32mreturn\u001b[0m \u001b[0mself\u001b[0m\u001b[0;34m.\u001b[0m\u001b[0m_handle_response\u001b[0m\u001b[0;34m(\u001b[0m\u001b[0mreq\u001b[0m\u001b[0;34m,\u001b[0m \u001b[0muri\u001b[0m\u001b[0;34m,\u001b[0m \u001b[0marg_data\u001b[0m\u001b[0;34m,\u001b[0m \u001b[0m_timeout\u001b[0m\u001b[0;34m)\u001b[0m\u001b[0;34m\u001b[0m\u001b[0m\n\u001b[0m\u001b[1;32m    246\u001b[0m \u001b[0;34m\u001b[0m\u001b[0m\n\u001b[1;32m    247\u001b[0m     \u001b[0;32mdef\u001b[0m \u001b[0m_handle_response\u001b[0m\u001b[0;34m(\u001b[0m\u001b[0mself\u001b[0m\u001b[0;34m,\u001b[0m \u001b[0mreq\u001b[0m\u001b[0;34m,\u001b[0m \u001b[0muri\u001b[0m\u001b[0;34m,\u001b[0m \u001b[0marg_data\u001b[0m\u001b[0;34m,\u001b[0m \u001b[0m_timeout\u001b[0m\u001b[0;34m=\u001b[0m\u001b[0mNone\u001b[0m\u001b[0;34m)\u001b[0m\u001b[0;34m:\u001b[0m\u001b[0;34m\u001b[0m\u001b[0m\n",
        "\u001b[0;32m/Users/zack/anaconda/lib/python2.7/site-packages/twitter/api.pyc\u001b[0m in \u001b[0;36m_handle_response\u001b[0;34m(self, req, uri, arg_data, _timeout)\u001b[0m\n\u001b[1;32m    274\u001b[0m                 \u001b[0;32mreturn\u001b[0m \u001b[0;34m[\u001b[0m\u001b[0;34m]\u001b[0m\u001b[0;34m\u001b[0m\u001b[0m\n\u001b[1;32m    275\u001b[0m             \u001b[0;32melse\u001b[0m\u001b[0;34m:\u001b[0m\u001b[0;34m\u001b[0m\u001b[0m\n\u001b[0;32m--> 276\u001b[0;31m                 \u001b[0;32mraise\u001b[0m \u001b[0mTwitterHTTPError\u001b[0m\u001b[0;34m(\u001b[0m\u001b[0me\u001b[0m\u001b[0;34m,\u001b[0m \u001b[0muri\u001b[0m\u001b[0;34m,\u001b[0m \u001b[0mself\u001b[0m\u001b[0;34m.\u001b[0m\u001b[0mformat\u001b[0m\u001b[0;34m,\u001b[0m \u001b[0marg_data\u001b[0m\u001b[0;34m)\u001b[0m\u001b[0;34m\u001b[0m\u001b[0m\n\u001b[0m\u001b[1;32m    277\u001b[0m \u001b[0;34m\u001b[0m\u001b[0m\n\u001b[1;32m    278\u001b[0m \u001b[0;34m\u001b[0m\u001b[0m\n",
        "\u001b[0;31mTwitterHTTPError\u001b[0m: Twitter sent status 401 for URL: 1.1/trends/place.json using parameters: (id=1&oauth_consumer_key=kU89M3iTVbkNhnA7b1WD9A&oauth_nonce=1823292528957952352&oauth_signature_method=HMAC-SHA1&oauth_timestamp=1402083697&oauth_token=54150531-lrpWlsun1FSq4zU81fFK03UFwLZPAfOYSr3zzY68T&oauth_version=1.0&oauth_signature=RGf3xs0C0cs%2BUGirFcAidXycSdg%3D)\ndetails: {\"errors\":[{\"message\":\"Could not authenticate you\",\"code\":32}]}"
       ]
      }
     ],
     "prompt_number": 10
    },
    {
     "cell_type": "code",
     "collapsed": false,
     "input": [
      "import json\n",
      "\n",
      "print json.dumps(world_trends, indent=1)\n",
      "print\n",
      "print json.dumps(us_trends, indent=1)"
     ],
     "language": "python",
     "metadata": {},
     "outputs": [
      {
       "ename": "NameError",
       "evalue": "name 'world_trends' is not defined",
       "output_type": "pyerr",
       "traceback": [
        "\u001b[0;31m---------------------------------------------------------------------------\u001b[0m\n\u001b[0;31mNameError\u001b[0m                                 Traceback (most recent call last)",
        "\u001b[0;32m<ipython-input-11-4cfb6d2a6274>\u001b[0m in \u001b[0;36m<module>\u001b[0;34m()\u001b[0m\n\u001b[1;32m      1\u001b[0m \u001b[0;32mimport\u001b[0m \u001b[0mjson\u001b[0m\u001b[0;34m\u001b[0m\u001b[0m\n\u001b[1;32m      2\u001b[0m \u001b[0;34m\u001b[0m\u001b[0m\n\u001b[0;32m----> 3\u001b[0;31m \u001b[0;32mprint\u001b[0m \u001b[0mjson\u001b[0m\u001b[0;34m.\u001b[0m\u001b[0mdumps\u001b[0m\u001b[0;34m(\u001b[0m\u001b[0mworld_trends\u001b[0m\u001b[0;34m,\u001b[0m \u001b[0mindent\u001b[0m\u001b[0;34m=\u001b[0m\u001b[0;36m1\u001b[0m\u001b[0;34m)\u001b[0m\u001b[0;34m\u001b[0m\u001b[0m\n\u001b[0m\u001b[1;32m      4\u001b[0m \u001b[0;32mprint\u001b[0m\u001b[0;34m\u001b[0m\u001b[0m\n\u001b[1;32m      5\u001b[0m \u001b[0;32mprint\u001b[0m \u001b[0mjson\u001b[0m\u001b[0;34m.\u001b[0m\u001b[0mdumps\u001b[0m\u001b[0;34m(\u001b[0m\u001b[0mus_trends\u001b[0m\u001b[0;34m,\u001b[0m \u001b[0mindent\u001b[0m\u001b[0;34m=\u001b[0m\u001b[0;36m1\u001b[0m\u001b[0;34m)\u001b[0m\u001b[0;34m\u001b[0m\u001b[0m\n",
        "\u001b[0;31mNameError\u001b[0m: name 'world_trends' is not defined"
       ]
      }
     ],
     "prompt_number": 11
    },
    {
     "cell_type": "code",
     "collapsed": false,
     "input": [
      "world_trends_set = set([trend['name'] \n",
      "                        for trend in world_trends[0]['trends']])\n",
      "\n",
      "us_trends_set = set([trend['name'] \n",
      "                     for trend in us_trends[0]['trends']]) \n",
      "\n",
      "common_trends = world_trends_set.intersection(us_trends_set)\n",
      "\n",
      "print common_trends"
     ],
     "language": "python",
     "metadata": {},
     "outputs": []
    },
    {
     "cell_type": "code",
     "collapsed": false,
     "input": [
      "# XXX: Set this variable to a trending topic, \n",
      "# or anything else for that matter. The example query below\n",
      "# was a trending topic when this content was being developed\n",
      "# and is used throughout the remainder of this chapter.\n",
      "\n",
      "q = '#DataScience' \n",
      "\n",
      "count = 100\n",
      "\n",
      "# See https://dev.twitter.com/docs/api/1.1/get/search/tweets\n",
      "\n",
      "search_results = twitter_api.search.tweets(q=q, count=count)\n",
      "\n",
      "statuses = search_results['statuses']\n",
      "\n",
      "\n",
      "# Iterate through 5 more batches of results by following the cursor\n",
      "\n",
      "for _ in range(5):\n",
      "    print \"Length of statuses\", len(statuses)\n",
      "    try:\n",
      "        next_results = search_results['search_metadata']['next_results']\n",
      "    except KeyError, e: # No more results when next_results doesn't exist\n",
      "        break\n",
      "        \n",
      "    # Create a dictionary from next_results, which has the following form:\n",
      "    # ?max_id=313519052523986943&q=NCAA&include_entities=1\n",
      "    kwargs = dict([ kv.split('=') for kv in next_results[1:].split(\"&\") ])\n",
      "    \n",
      "    search_results = twitter_api.search.tweets(**kwargs)\n",
      "    statuses += search_results['statuses']\n",
      "\n",
      "# Show one sample search result by slicing the list...\n",
      "print json.dumps(statuses[0], indent=1)"
     ],
     "language": "python",
     "metadata": {},
     "outputs": []
    },
    {
     "cell_type": "code",
     "collapsed": false,
     "input": [
      "\n",
      "\n",
      "status_texts = [ status['text'] \n",
      "                 for status in statuses ]\n",
      "\n",
      "screen_names = [ user_mention['screen_name'] \n",
      "                 for status in statuses\n",
      "                     for user_mention in status['entities']['user_mentions'] ]\n",
      "\n",
      "hashtags = [ hashtag['text'] \n",
      "             for status in statuses\n",
      "                 for hashtag in status['entities']['hashtags'] ]\n",
      "\n",
      "# Compute a collection of all words from all tweets\n",
      "words = [ w \n",
      "          for t in status_texts \n",
      "              for w in t.split() ]\n",
      "\n",
      "# Explore the first 5 items for each...\n",
      "\n",
      "print json.dumps(status_texts[0:5], indent=1)\n",
      "print json.dumps(screen_names[0:5], indent=1) \n",
      "print json.dumps(hashtags[0:5], indent=1)\n",
      "print json.dumps(words[0:5], indent=1)\n",
      "\n"
     ],
     "language": "python",
     "metadata": {},
     "outputs": []
    },
    {
     "cell_type": "code",
     "collapsed": false,
     "input": [
      "from collections import Counter\n",
      "\n",
      "for item in [words, screen_names, hashtags]:\n",
      "    c = Counter(item)\n",
      "    print c.most_common()[:10] # top 10\n",
      "    print\n",
      "\n"
     ],
     "language": "python",
     "metadata": {},
     "outputs": []
    }
   ],
   "metadata": {}
  }
 ]
}