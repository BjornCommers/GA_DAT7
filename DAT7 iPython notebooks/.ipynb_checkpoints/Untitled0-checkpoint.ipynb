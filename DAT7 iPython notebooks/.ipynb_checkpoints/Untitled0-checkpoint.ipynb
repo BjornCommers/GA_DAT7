{
 "metadata": {
  "name": "",
  "signature": "sha256:40b557cb9ebb0609e13ba74535297c64d2e81a80d5414dfbab0f1c2997de84da"
 },
 "nbformat": 3,
 "nbformat_minor": 0,
 "worksheets": []
}