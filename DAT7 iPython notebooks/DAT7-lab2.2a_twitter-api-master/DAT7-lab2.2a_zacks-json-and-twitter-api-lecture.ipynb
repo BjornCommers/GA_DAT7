{
 "metadata": {
  "name": "",
  "signature": "sha256:41eeb2e29ea4f43c29a16b2d2f8a259193648085e5b2052b7e48ff882d59ec45"
 },
 "nbformat": 3,
 "nbformat_minor": 0,
 "worksheets": [
  {
   "cells": [
    {
     "cell_type": "markdown",
     "metadata": {
      "slideshow": {
       "slide_type": "slide"
      }
     },
     "source": [
      "# GA Data Science 7 (DAT7) - Lab2.1"
     ]
    },
    {
     "cell_type": "markdown",
     "metadata": {
      "slideshow": {
       "slide_type": "slide"
      }
     },
     "source": [
      "Today we will be learning about the data file type called JSON, that is used alot with many companies API's\n",
      "- http://jsonviewer.stack.hu/\n",
      "- http://jsonlint.com/"
     ]
    },
    {
     "cell_type": "heading",
     "level": 1,
     "metadata": {
      "slideshow": {
       "slide_type": "slide"
      }
     },
     "source": [
      "1. JSON"
     ]
    },
    {
     "cell_type": "markdown",
     "metadata": {
      "slideshow": {
       "slide_type": "slide"
      }
     },
     "source": [
      "- What's Json? (and why do we care?)\n",
      "- http://www.reddit.com/r/funny/.json"
     ]
    },
    {
     "cell_type": "markdown",
     "metadata": {},
     "source": [
      "## 2 A simple web request"
     ]
    },
    {
     "cell_type": "code",
     "collapsed": false,
     "input": [
      "import urllib\n",
      "import json\n",
      "url = \"http://www.reddit.com/r/funny/.json\"\n",
      "data = urllib.urlopen(url).read()\n",
      "\n",
      "#### THIS IS NOW JUST A STRING, \n",
      "#### PYTHON DOESN'T YET KNOW IT IS A JSON OBJECT\n",
      "print type(data)\n"
     ],
     "language": "python",
     "metadata": {},
     "outputs": [
      {
       "output_type": "stream",
       "stream": "stdout",
       "text": [
        "<type 'str'>\n"
       ]
      }
     ],
     "prompt_number": 1
    },
    {
     "cell_type": "code",
     "collapsed": false,
     "input": [
      "##### json.loads(data)  is how you convert a string to a dictionary (which is basically a JSON)\n",
      "##### \n",
      "jdata = json.loads(data)\n",
      "\n",
      "#### SEE NOW IT IS A DICTIONARY\n",
      "print type(jdata)\n",
      "\n",
      "\n",
      "#### YOU CAN ASK DICTIONARY THINGS, LIKE WHAT KEYS THEY HAVE\n",
      "print jdata.keys()\n",
      "\n",
      "\n",
      "#### TO PRINT THE VALUES OF A KEY YOU DO THE FILNAME FOLLOWED BY THE KEY LIKE THIS\n",
      "####  jdata['KEY']\n",
      "\n",
      "#print jdata['data']\n",
      "\n",
      "##### SOMETIMES, THE VALUES OF THAT DICTIONARY, CAN ASLO BE KEYS THAT HAVE VALUES OF THEIR OWN\n",
      "##### YOU CAN THINK OF THEM LIKE PARENTS AND CHILDREN, \n",
      "# print jdata['data'].keys()\n",
      "\n",
      "# # print type(jdata['data']['children'])\n",
      "\n",
      "# # # print type(jdata)\n",
      "# # # print jdata.keys()\n",
      "# # # print jdata['kind']\n",
      "# # # print jdata['data']\n",
      "# # # df = pd.DataFrame(jdata['data']) NO NO NO\n"
     ],
     "language": "python",
     "metadata": {},
     "outputs": [
      {
       "output_type": "stream",
       "stream": "stdout",
       "text": [
        "<type 'dict'>\n",
        "[u'kind', u'data']\n"
       ]
      }
     ],
     "prompt_number": 2
    },
    {
     "cell_type": "heading",
     "level": 1,
     "metadata": {
      "slideshow": {
       "slide_type": "slide"
      }
     },
     "source": [
      "Twitter API"
     ]
    },
    {
     "cell_type": "markdown",
     "metadata": {
      "slideshow": {
       "slide_type": "notes"
      }
     },
     "source": [
      "Twitter has no less than 10 python libraries. We'll be using Python Twitter Tools because it's what's used in Mining the Social Web."
     ]
    },
    {
     "cell_type": "markdown",
     "metadata": {
      "slideshow": {
       "slide_type": "skip"
      }
     },
     "source": [
      "#### Some services (like Twitter) have released Python libraries of their own to make using their API even easier.\n"
     ]
    },
    {
     "cell_type": "code",
     "collapsed": false,
     "input": [
      "!pip install twitter\n"
     ],
     "language": "python",
     "metadata": {},
     "outputs": [
      {
       "output_type": "stream",
       "stream": "stdout",
       "text": [
        "Requirement already satisfied (use --upgrade to upgrade): twitter in /anaconda/lib/python2.7/site-packages\r\n",
        "Cleaning up...\r\n"
       ]
      }
     ],
     "prompt_number": 3
    },
    {
     "cell_type": "markdown",
     "metadata": {},
     "source": [
      "Here are the steps I took to get my own key, just follow along and you should be able to get yours too.<br>\n",
      "Once you get your access tokens, then go on and do the LAB located here: http://tinyurl.com/GAtwitterlab up through Exercise 5."
     ]
    },
    {
     "cell_type": "markdown",
     "metadata": {},
     "source": [
      "# THIS IS HOW YOU GET YOUR ACCESS TOKES FOR TWITTERS API\n",
      "#### go to https://dev.twitter.com/ \n",
      "\n",
      "#### sign in, then click on your icon in the top right, and in that dropdown menu click 'MY APPLICATIONS' or 'CREATE APPLICATION'\n",
      "![alt text](https://raw.githubusercontent.com/zd123/twitter-api/master/twitter-tutorial-screenshots/1-twitter.png)\n"
     ]
    },
    {
     "cell_type": "markdown",
     "metadata": {},
     "source": [
      "![](https://raw.githubusercontent.com/zd123/twitter-api/master/twitter-tutorial-screenshots/3-twitter.png)"
     ]
    },
    {
     "cell_type": "markdown",
     "metadata": {},
     "source": [
      "![alt text](https://raw.githubusercontent.com/zd123/twitter-api/master/twitter-tutorial-screenshots/4-twitter.png)\n"
     ]
    },
    {
     "cell_type": "markdown",
     "metadata": {},
     "source": [
      "![](https://raw.githubusercontent.com/zd123/twitter-api/master/twitter-tutorial-screenshots/6-twitter-click-on-api-keys-tab.png)"
     ]
    },
    {
     "cell_type": "markdown",
     "metadata": {},
     "source": [
      "![](https://raw.githubusercontent.com/zd123/twitter-api/master/twitter-tutorial-screenshots/7-twitter-clicked-on-gen-my-access-token.png)"
     ]
    },
    {
     "cell_type": "markdown",
     "metadata": {},
     "source": [
      "![](https://raw.githubusercontent.com/zd123/twitter-api/master/twitter-tutorial-screenshots/8-done.png)"
     ]
    },
    {
     "cell_type": "markdown",
     "metadata": {},
     "source": [
      "Once you have your access tokens, go onto to complete the Twitter Lab located here: http://tinyurl.com/GAtwitterlab"
     ]
    },
    {
     "cell_type": "code",
     "collapsed": false,
     "input": [
      "#note must use above steps to recieve your own keys\n",
      "'''\n",
      "CONSUMER_KEY = 'hbwxP2s76aWJ1tC1hxXXv9n3B'\n",
      "CONSUMER_SECRET ='K4iCWnrnZ5Z4VbiSAuEfbyrs5DYJYYGptzmvlMqHnf4qaQiTGE'\n",
      "OAUTH_TOKEN = '284204571-0kKghHzkO1aoq70dP90v2BdxCQVO1JTJvqtXspvF'\n",
      "OAUTH_TOKEN_SECRET = 'XwTD3JJkONF9jnZITKRIAlgZ4wJPeBzyjqtuzPsjTNDh7'\n",
      "'''"
     ],
     "language": "python",
     "metadata": {},
     "outputs": [],
     "prompt_number": 4
    },
    {
     "cell_type": "code",
     "collapsed": false,
     "input": [
      "import twitter\n",
      "\n",
      "auth = twitter.oauth.OAuth(OAUTH_TOKEN, \n",
      "                           OAUTH_TOKEN_SECRET,\n",
      "                           CONSUMER_KEY,\n",
      "                           CONSUMER_SECRET)\n",
      "\n",
      "twitter_api = twitter.Twitter(auth=auth)\n",
      "\n",
      "print twitter_api"
     ],
     "language": "python",
     "metadata": {
      "slideshow": {
       "slide_type": "slide"
      }
     },
     "outputs": [
      {
       "output_type": "stream",
       "stream": "stdout",
       "text": [
        "<twitter.api.Twitter object at 0x1049c4b90>\n"
       ]
      }
     ],
     "prompt_number": 5
    },
    {
     "cell_type": "markdown",
     "metadata": {
      "slideshow": {
       "slide_type": "skip"
      }
     },
     "source": [
      "#### Using a library like this, we don't even need to specify the URL (that's handled internally)."
     ]
    },
    {
     "cell_type": "markdown",
     "metadata": {
      "slideshow": {
       "slide_type": "slide"
      }
     },
     "source": [
      "Using a library like this, it's easy to do something like search for tweets mentioning `#bigdata`  \n",
      "\n",
      "The results are transformed into a Python object (which in this case is a thin wrapper around a `dict`)"
     ]
    },
    {
     "cell_type": "code",
     "collapsed": false,
     "input": [
      "bigdata = twitter_api.search.tweets(q='#2chainz', count=5)\n",
      "\n",
      "print type(bigdata)\n",
      "bigdata.keys()\n"
     ],
     "language": "python",
     "metadata": {
      "slideshow": {
       "slide_type": "fragment"
      }
     },
     "outputs": [
      {
       "output_type": "stream",
       "stream": "stdout",
       "text": [
        "<class 'twitter.api.TwitterDictResponse'>\n"
       ]
      },
      {
       "metadata": {},
       "output_type": "pyout",
       "prompt_number": 6,
       "text": [
        "[u'search_metadata', u'statuses']"
       ]
      }
     ],
     "prompt_number": 6
    },
    {
     "cell_type": "code",
     "collapsed": false,
     "input": [
      "for status in bigdata['statuses']:\n",
      "#     print status.keys()\n",
      "    print status.get('coordinates')\n",
      "#     user = status.get('user')\n",
      "\n",
      "#     print user.get('name'), user.get('friends_count')\n",
      "#     print user.keys()\n",
      "    "
     ],
     "language": "python",
     "metadata": {
      "slideshow": {
       "slide_type": "fragment"
      }
     },
     "outputs": [
      {
       "output_type": "stream",
       "stream": "stdout",
       "text": [
        "None\n",
        "None\n",
        "None\n",
        "None\n",
        "None\n"
       ]
      }
     ],
     "prompt_number": 7
    },
    {
     "cell_type": "markdown",
     "metadata": {
      "slideshow": {
       "slide_type": "slide"
      }
     },
     "source": [
      "# Twitter lab\n",
      "[http://tinyurl.com/GAtwitterlab](http://nbviewer.ipython.org/github/ptwobrussell/Mining-the-Social-Web-2nd-Edition/blob/master/ipynb/Chapter%201%20-%20Mining%20Twitter.ipynb) up through Exercise 5"
     ]
    },
    {
     "cell_type": "markdown",
     "metadata": {},
     "source": [
      "Useful links:\n",
      "\n",
      "[Mining the Social Web](https://github.com/ptwobrussell/Mining-the-Social-Web-2nd-Edition)"
     ]
    },
    {
     "cell_type": "code",
     "collapsed": false,
     "input": [
      "!pip install twitter"
     ],
     "language": "python",
     "metadata": {},
     "outputs": [
      {
       "output_type": "stream",
       "stream": "stdout",
       "text": [
        "Requirement already satisfied (use --upgrade to upgrade): twitter in /anaconda/lib/python2.7/site-packages\r\n",
        "Cleaning up...\r\n"
       ]
      }
     ],
     "prompt_number": 8
    },
    {
     "cell_type": "code",
     "collapsed": false,
     "input": [
      "import twitter"
     ],
     "language": "python",
     "metadata": {},
     "outputs": [],
     "prompt_number": 9
    },
    {
     "cell_type": "code",
     "collapsed": false,
     "input": [
      "#CONSUMER_KEY = 'kU89M3iTVbkNhnA7b1WD9A'\n",
      "#CONSUMER_SECRET ='E2erSrX5DeUByOzm2Rn4uI1SsXI2v7UTvWSDe4sDs'\n",
      "#OAUTH_TOKEN = '54150531-lrpWlsun1FSq4zU81fFK03UFwLZPAfOYSr3zzY68T'\n",
      "#OAUTH_TOKEN_SECRET = '8JzJx1kPv3l6rq4IBFgPZYyUloMzcPKr2r7SrBstCmiz6'"
     ],
     "language": "python",
     "metadata": {},
     "outputs": [],
     "prompt_number": 10
    },
    {
     "cell_type": "code",
     "collapsed": false,
     "input": [
      "auth = twitter.oauth.OAuth(OAUTH_TOKEN, OAUTH_TOKEN_SECRET,\n",
      "                           CONSUMER_KEY, CONSUMER_SECRET)\n",
      "\n",
      "twitter_api = twitter.Twitter(auth=auth)\n",
      "\n",
      "# Nothing to see by displaying twitter_api except that it's now a\n",
      "# defined variable\n",
      "\n",
      "print twitter_api"
     ],
     "language": "python",
     "metadata": {},
     "outputs": [
      {
       "output_type": "stream",
       "stream": "stdout",
       "text": [
        "<twitter.api.Twitter object at 0x10377a7d0>\n"
       ]
      }
     ],
     "prompt_number": 11
    },
    {
     "cell_type": "code",
     "collapsed": false,
     "input": [
      "# The Yahoo! Where On Earth ID for the entire world is 1.\n",
      "# See https://dev.twitter.com/docs/api/1.1/get/trends/place and\n",
      "# http://developer.yahoo.com/geo/geoplanet/\n",
      "\n",
      "WORLD_WOE_ID = 1\n",
      "US_WOE_ID = 23424977\n",
      "\n",
      "# Prefix ID with the underscore for query string parameterization.\n",
      "# Without the underscore, the twitter package appends the ID value\n",
      "# to the URL itself as a special case keyword argument.\n",
      "\n",
      "world_trends = twitter_api.trends.place(_id=WORLD_WOE_ID)\n",
      "us_trends = twitter_api.trends.place(_id=US_WOE_ID)\n",
      "\n",
      "print world_trends\n",
      "print\n",
      "print us_trends"
     ],
     "language": "python",
     "metadata": {},
     "outputs": [
      {
       "output_type": "stream",
       "stream": "stdout",
       "text": [
        "[{u'created_at': u'2014-06-09T17:42:01Z', u'trends': [{u'url': u'http://twitter.com/search?q=%22New+Tomb+Raider%22', u'query': u'%22New+Tomb+Raider%22', u'name': u'New Tomb Raider', u'promoted_content': None}, {u'url': u'http://twitter.com/search?q=%22Rik+Mayall%22', u'query': u'%22Rik+Mayall%22', u'name': u'Rik Mayall', u'promoted_content': None}, {u'url': u'http://twitter.com/search?q=%23BabyPewds', u'query': u'%23BabyPewds', u'name': u'#BabyPewds', u'promoted_content': None}, {u'url': u'http://twitter.com/search?q=%23BayrakSereftir', u'query': u'%23BayrakSereftir', u'name': u'#BayrakSereftir', u'promoted_content': None}, {u'url': u'http://twitter.com/search?q=%22Drop+Dead+Fred%22', u'query': u'%22Drop+Dead+Fred%22', u'name': u'Drop Dead Fred', u'promoted_content': None}, {u'url': u'http://twitter.com/search?q=%23WatchSomebodyToYouOnVEVO', u'query': u'%23WatchSomebodyToYouOnVEVO', u'name': u'#WatchSomebodyToYouOnVEVO', u'promoted_content': None}, {u'url': u'http://twitter.com/search?q=%23MeReGustaQue', u'query': u'%23MeReGustaQue', u'name': u'#MeReGustaQue', u'promoted_content': None}, {u'url': u'http://twitter.com/search?q=%23OkulaSonS%C3%B6z%C3%BCm', u'query': u'%23OkulaSonS%C3%B6z%C3%BCm', u'name': u'#OkulaSonS\\xf6z\\xfcm', u'promoted_content': None}, {u'url': u'http://twitter.com/search?q=%22The+Master+Chief+Collection%22', u'query': u'%22The+Master+Chief+Collection%22', u'name': u'The Master Chief Collection', u'promoted_content': None}, {u'url': u'http://twitter.com/search?q=Cuphead', u'query': u'Cuphead', u'name': u'Cuphead', u'promoted_content': None}], u'as_of': u'2014-06-09T17:47:14Z', u'locations': [{u'woeid': 1, u'name': u'Worldwide'}]}]\n",
        "\n",
        "[{u'created_at': u'2014-06-09T17:42:01Z', u'trends': [{u'url': u'http://twitter.com/search?q=%22New+Tomb+Raider%22', u'query': u'%22New+Tomb+Raider%22', u'name': u'New Tomb Raider', u'promoted_content': None}, {u'url': u'http://twitter.com/search?q=%22Master+Chief+Collection%22', u'query': u'%22Master+Chief+Collection%22', u'name': u'Master Chief Collection', u'promoted_content': None}, {u'url': u'http://twitter.com/search?q=%22Rik+Mayall%22', u'query': u'%22Rik+Mayall%22', u'name': u'Rik Mayall', u'promoted_content': None}, {u'url': u'http://twitter.com/search?q=Cuphead', u'query': u'Cuphead', u'name': u'Cuphead', u'promoted_content': None}, {u'url': u'http://twitter.com/search?q=%23BabyPewds', u'query': u'%23BabyPewds', u'name': u'#BabyPewds', u'promoted_content': None}, {u'url': u'http://twitter.com/search?q=%23SpikeE3', u'query': u'%23SpikeE3', u'name': u'#SpikeE3', u'promoted_content': None}, {u'url': u'http://twitter.com/search?q=%22Drop+Dead+Fred%22', u'query': u'%22Drop+Dead+Fred%22', u'name': u'Drop Dead Fred', u'promoted_content': None}, {u'url': u'http://twitter.com/search?q=%23Halo5Guardians', u'query': u'%23Halo5Guardians', u'name': u'#Halo5Guardians', u'promoted_content': None}, {u'url': u'http://twitter.com/search?q=%23XboxE3', u'query': u'%23XboxE3', u'name': u'#XboxE3', u'promoted_content': None}, {u'url': u'http://twitter.com/search?q=%22Lara+Croft%22', u'query': u'%22Lara+Croft%22', u'name': u'Lara Croft', u'promoted_content': None}], u'as_of': u'2014-06-09T17:47:14Z', u'locations': [{u'woeid': 23424977, u'name': u'United States'}]}]\n"
       ]
      }
     ],
     "prompt_number": 12
    },
    {
     "cell_type": "code",
     "collapsed": false,
     "input": [
      "import json\n",
      "\n",
      "print json.dumps(world_trends, indent=1)\n",
      "print\n",
      "print json.dumps(us_trends, indent=1)"
     ],
     "language": "python",
     "metadata": {},
     "outputs": [
      {
       "output_type": "stream",
       "stream": "stdout",
       "text": [
        "[\n",
        " {\n",
        "  \"created_at\": \"2014-06-09T17:42:01Z\", \n",
        "  \"trends\": [\n",
        "   {\n",
        "    \"url\": \"http://twitter.com/search?q=%22New+Tomb+Raider%22\", \n",
        "    \"query\": \"%22New+Tomb+Raider%22\", \n",
        "    \"name\": \"New Tomb Raider\", \n",
        "    \"promoted_content\": null\n",
        "   }, \n",
        "   {\n",
        "    \"url\": \"http://twitter.com/search?q=%22Rik+Mayall%22\", \n",
        "    \"query\": \"%22Rik+Mayall%22\", \n",
        "    \"name\": \"Rik Mayall\", \n",
        "    \"promoted_content\": null\n",
        "   }, \n",
        "   {\n",
        "    \"url\": \"http://twitter.com/search?q=%23BabyPewds\", \n",
        "    \"query\": \"%23BabyPewds\", \n",
        "    \"name\": \"#BabyPewds\", \n",
        "    \"promoted_content\": null\n",
        "   }, \n",
        "   {\n",
        "    \"url\": \"http://twitter.com/search?q=%23BayrakSereftir\", \n",
        "    \"query\": \"%23BayrakSereftir\", \n",
        "    \"name\": \"#BayrakSereftir\", \n",
        "    \"promoted_content\": null\n",
        "   }, \n",
        "   {\n",
        "    \"url\": \"http://twitter.com/search?q=%22Drop+Dead+Fred%22\", \n",
        "    \"query\": \"%22Drop+Dead+Fred%22\", \n",
        "    \"name\": \"Drop Dead Fred\", \n",
        "    \"promoted_content\": null\n",
        "   }, \n",
        "   {\n",
        "    \"url\": \"http://twitter.com/search?q=%23WatchSomebodyToYouOnVEVO\", \n",
        "    \"query\": \"%23WatchSomebodyToYouOnVEVO\", \n",
        "    \"name\": \"#WatchSomebodyToYouOnVEVO\", \n",
        "    \"promoted_content\": null\n",
        "   }, \n",
        "   {\n",
        "    \"url\": \"http://twitter.com/search?q=%23MeReGustaQue\", \n",
        "    \"query\": \"%23MeReGustaQue\", \n",
        "    \"name\": \"#MeReGustaQue\", \n",
        "    \"promoted_content\": null\n",
        "   }, \n",
        "   {\n",
        "    \"url\": \"http://twitter.com/search?q=%23OkulaSonS%C3%B6z%C3%BCm\", \n",
        "    \"query\": \"%23OkulaSonS%C3%B6z%C3%BCm\", \n",
        "    \"name\": \"#OkulaSonS\\u00f6z\\u00fcm\", \n",
        "    \"promoted_content\": null\n",
        "   }, \n",
        "   {\n",
        "    \"url\": \"http://twitter.com/search?q=%22The+Master+Chief+Collection%22\", \n",
        "    \"query\": \"%22The+Master+Chief+Collection%22\", \n",
        "    \"name\": \"The Master Chief Collection\", \n",
        "    \"promoted_content\": null\n",
        "   }, \n",
        "   {\n",
        "    \"url\": \"http://twitter.com/search?q=Cuphead\", \n",
        "    \"query\": \"Cuphead\", \n",
        "    \"name\": \"Cuphead\", \n",
        "    \"promoted_content\": null\n",
        "   }\n",
        "  ], \n",
        "  \"as_of\": \"2014-06-09T17:47:14Z\", \n",
        "  \"locations\": [\n",
        "   {\n",
        "    \"woeid\": 1, \n",
        "    \"name\": \"Worldwide\"\n",
        "   }\n",
        "  ]\n",
        " }\n",
        "]\n",
        "\n",
        "[\n",
        " {\n",
        "  \"created_at\": \"2014-06-09T17:42:01Z\", \n",
        "  \"trends\": [\n",
        "   {\n",
        "    \"url\": \"http://twitter.com/search?q=%22New+Tomb+Raider%22\", \n",
        "    \"query\": \"%22New+Tomb+Raider%22\", \n",
        "    \"name\": \"New Tomb Raider\", \n",
        "    \"promoted_content\": null\n",
        "   }, \n",
        "   {\n",
        "    \"url\": \"http://twitter.com/search?q=%22Master+Chief+Collection%22\", \n",
        "    \"query\": \"%22Master+Chief+Collection%22\", \n",
        "    \"name\": \"Master Chief Collection\", \n",
        "    \"promoted_content\": null\n",
        "   }, \n",
        "   {\n",
        "    \"url\": \"http://twitter.com/search?q=%22Rik+Mayall%22\", \n",
        "    \"query\": \"%22Rik+Mayall%22\", \n",
        "    \"name\": \"Rik Mayall\", \n",
        "    \"promoted_content\": null\n",
        "   }, \n",
        "   {\n",
        "    \"url\": \"http://twitter.com/search?q=Cuphead\", \n",
        "    \"query\": \"Cuphead\", \n",
        "    \"name\": \"Cuphead\", \n",
        "    \"promoted_content\": null\n",
        "   }, \n",
        "   {\n",
        "    \"url\": \"http://twitter.com/search?q=%23BabyPewds\", \n",
        "    \"query\": \"%23BabyPewds\", \n",
        "    \"name\": \"#BabyPewds\", \n",
        "    \"promoted_content\": null\n",
        "   }, \n",
        "   {\n",
        "    \"url\": \"http://twitter.com/search?q=%23SpikeE3\", \n",
        "    \"query\": \"%23SpikeE3\", \n",
        "    \"name\": \"#SpikeE3\", \n",
        "    \"promoted_content\": null\n",
        "   }, \n",
        "   {\n",
        "    \"url\": \"http://twitter.com/search?q=%22Drop+Dead+Fred%22\", \n",
        "    \"query\": \"%22Drop+Dead+Fred%22\", \n",
        "    \"name\": \"Drop Dead Fred\", \n",
        "    \"promoted_content\": null\n",
        "   }, \n",
        "   {\n",
        "    \"url\": \"http://twitter.com/search?q=%23Halo5Guardians\", \n",
        "    \"query\": \"%23Halo5Guardians\", \n",
        "    \"name\": \"#Halo5Guardians\", \n",
        "    \"promoted_content\": null\n",
        "   }, \n",
        "   {\n",
        "    \"url\": \"http://twitter.com/search?q=%23XboxE3\", \n",
        "    \"query\": \"%23XboxE3\", \n",
        "    \"name\": \"#XboxE3\", \n",
        "    \"promoted_content\": null\n",
        "   }, \n",
        "   {\n",
        "    \"url\": \"http://twitter.com/search?q=%22Lara+Croft%22\", \n",
        "    \"query\": \"%22Lara+Croft%22\", \n",
        "    \"name\": \"Lara Croft\", \n",
        "    \"promoted_content\": null\n",
        "   }\n",
        "  ], \n",
        "  \"as_of\": \"2014-06-09T17:47:14Z\", \n",
        "  \"locations\": [\n",
        "   {\n",
        "    \"woeid\": 23424977, \n",
        "    \"name\": \"United States\"\n",
        "   }\n",
        "  ]\n",
        " }\n",
        "]\n"
       ]
      }
     ],
     "prompt_number": 13
    },
    {
     "cell_type": "code",
     "collapsed": false,
     "input": [
      "world_trends_set = set([trend['name'] \n",
      "                        for trend in world_trends[0]['trends']])\n",
      "\n",
      "us_trends_set = set([trend['name'] \n",
      "                     for trend in us_trends[0]['trends']]) \n",
      "\n",
      "common_trends = world_trends_set.intersection(us_trends_set)\n",
      "\n",
      "print common_trends"
     ],
     "language": "python",
     "metadata": {},
     "outputs": [
      {
       "output_type": "stream",
       "stream": "stdout",
       "text": [
        "set([u'Rik Mayall', u'#BabyPewds', u'Drop Dead Fred', u'Cuphead', u'New Tomb Raider'])\n"
       ]
      }
     ],
     "prompt_number": 14
    },
    {
     "cell_type": "code",
     "collapsed": false,
     "input": [
      "# XXX: Set this variable to a trending topic, \n",
      "# or anything else for that matter. The example query below\n",
      "# was a trending topic when this content was being developed\n",
      "# and is used throughout the remainder of this chapter.\n",
      "\n",
      "q = '#DataScience' \n",
      "\n",
      "count = 100\n",
      "\n",
      "# See https://dev.twitter.com/docs/api/1.1/get/search/tweets\n",
      "\n",
      "search_results = twitter_api.search.tweets(q=q, count=count)\n",
      "\n",
      "statuses = search_results['statuses']\n",
      "\n",
      "\n",
      "# Iterate through 5 more batches of results by following the cursor\n",
      "\n",
      "for _ in range(5):\n",
      "    print \"Length of statuses\", len(statuses)\n",
      "    try:\n",
      "        next_results = search_results['search_metadata']['next_results']\n",
      "    except KeyError, e: # No more results when next_results doesn't exist\n",
      "        break\n",
      "        \n",
      "    # Create a dictionary from next_results, which has the following form:\n",
      "    # ?max_id=313519052523986943&q=NCAA&include_entities=1\n",
      "    kwargs = dict([ kv.split('=') for kv in next_results[1:].split(\"&\") ])\n",
      "    \n",
      "    search_results = twitter_api.search.tweets(**kwargs)\n",
      "    statuses += search_results['statuses']\n",
      "\n",
      "# Show one sample search result by slicing the list...\n",
      "print json.dumps(statuses[0], indent=1)"
     ],
     "language": "python",
     "metadata": {},
     "outputs": [
      {
       "output_type": "stream",
       "stream": "stdout",
       "text": [
        "Length of statuses 100\n",
        "Length of statuses"
       ]
      },
      {
       "output_type": "stream",
       "stream": "stdout",
       "text": [
        " 200\n",
        "Length of statuses"
       ]
      },
      {
       "output_type": "stream",
       "stream": "stdout",
       "text": [
        " 200\n",
        "{\n",
        " \"contributors\": null, \n",
        " \"truncated\": false, \n",
        " \"text\": \"RT @dataiku: Jeudi nous ouvrons nos portes, venez d\\u00e9couvrir la #DataScience et les mod\\u00e8les pr\\u00e9dictifs http://t.co/d5SmZVeA5S #Paris #startup\", \n",
        " \"in_reply_to_status_id\": null, \n",
        " \"id\": 476054763046727680, \n",
        " \"favorite_count\": 0, \n",
        " \"source\": \"<a href=\\\"http://twitter.com/download/android\\\" rel=\\\"nofollow\\\">Twitter for Android</a>\", \n",
        " \"retweeted\": false, \n",
        " \"coordinates\": null, \n",
        " \"entities\": {\n",
        "  \"symbols\": [], \n",
        "  \"user_mentions\": [\n",
        "   {\n",
        "    \"id\": 816825631, \n",
        "    \"indices\": [\n",
        "     3, \n",
        "     11\n",
        "    ], \n",
        "    \"id_str\": \"816825631\", \n",
        "    \"screen_name\": \"dataiku\", \n",
        "    \"name\": \"Dataiku\"\n",
        "   }\n",
        "  ], \n",
        "  \"hashtags\": [\n",
        "   {\n",
        "    \"indices\": [\n",
        "     63, \n",
        "     75\n",
        "    ], \n",
        "    \"text\": \"DataScience\"\n",
        "   }, \n",
        "   {\n",
        "    \"indices\": [\n",
        "     125, \n",
        "     131\n",
        "    ], \n",
        "    \"text\": \"Paris\"\n",
        "   }, \n",
        "   {\n",
        "    \"indices\": [\n",
        "     132, \n",
        "     140\n",
        "    ], \n",
        "    \"text\": \"startup\"\n",
        "   }\n",
        "  ], \n",
        "  \"urls\": [\n",
        "   {\n",
        "    \"url\": \"http://t.co/d5SmZVeA5S\", \n",
        "    \"indices\": [\n",
        "     102, \n",
        "     124\n",
        "    ], \n",
        "    \"expanded_url\": \"http://www.startupassembly.co/workshops/dataiku\", \n",
        "    \"display_url\": \"startupassembly.co/workshops/data\\u2026\"\n",
        "   }\n",
        "  ]\n",
        " }, \n",
        " \"in_reply_to_screen_name\": null, \n",
        " \"in_reply_to_user_id\": null, \n",
        " \"retweet_count\": 2, \n",
        " \"id_str\": \"476054763046727680\", \n",
        " \"favorited\": false, \n",
        " \"retweeted_status\": {\n",
        "  \"contributors\": null, \n",
        "  \"truncated\": false, \n",
        "  \"text\": \"Jeudi nous ouvrons nos portes, venez d\\u00e9couvrir la #DataScience et les mod\\u00e8les pr\\u00e9dictifs http://t.co/d5SmZVeA5S #Paris #startup\", \n",
        "  \"in_reply_to_status_id\": null, \n",
        "  \"id\": 475977830921433088, \n",
        "  \"favorite_count\": 5, \n",
        "  \"source\": \"<a href=\\\"https://about.twitter.com/products/tweetdeck\\\" rel=\\\"nofollow\\\">TweetDeck</a>\", \n",
        "  \"retweeted\": false, \n",
        "  \"coordinates\": null, \n",
        "  \"entities\": {\n",
        "   \"symbols\": [], \n",
        "   \"user_mentions\": [], \n",
        "   \"hashtags\": [\n",
        "    {\n",
        "     \"indices\": [\n",
        "      50, \n",
        "      62\n",
        "     ], \n",
        "     \"text\": \"DataScience\"\n",
        "    }, \n",
        "    {\n",
        "     \"indices\": [\n",
        "      112, \n",
        "      118\n",
        "     ], \n",
        "     \"text\": \"Paris\"\n",
        "    }, \n",
        "    {\n",
        "     \"indices\": [\n",
        "      119, \n",
        "      127\n",
        "     ], \n",
        "     \"text\": \"startup\"\n",
        "    }\n",
        "   ], \n",
        "   \"urls\": [\n",
        "    {\n",
        "     \"url\": \"http://t.co/d5SmZVeA5S\", \n",
        "     \"indices\": [\n",
        "      89, \n",
        "      111\n",
        "     ], \n",
        "     \"expanded_url\": \"http://www.startupassembly.co/workshops/dataiku\", \n",
        "     \"display_url\": \"startupassembly.co/workshops/data\\u2026\"\n",
        "    }\n",
        "   ]\n",
        "  }, \n",
        "  \"in_reply_to_screen_name\": null, \n",
        "  \"in_reply_to_user_id\": null, \n",
        "  \"retweet_count\": 2, \n",
        "  \"id_str\": \"475977830921433088\", \n",
        "  \"favorited\": false, \n",
        "  \"user\": {\n",
        "   \"follow_request_sent\": false, \n",
        "   \"profile_use_background_image\": true, \n",
        "   \"default_profile_image\": false, \n",
        "   \"id\": 816825631, \n",
        "   \"profile_background_image_url_https\": \"https://abs.twimg.com/images/themes/theme14/bg.gif\", \n",
        "   \"verified\": false, \n",
        "   \"profile_text_color\": \"333333\", \n",
        "   \"profile_image_url_https\": \"https://pbs.twimg.com/profile_images/2868982526/1cc261e5ea9c8311545feea338b2959a_normal.png\", \n",
        "   \"profile_sidebar_fill_color\": \"EFEFEF\", \n",
        "   \"entities\": {\n",
        "    \"url\": {\n",
        "     \"urls\": [\n",
        "      {\n",
        "       \"url\": \"http://t.co/2W6hCFpm\", \n",
        "       \"indices\": [\n",
        "        0, \n",
        "        20\n",
        "       ], \n",
        "       \"expanded_url\": \"http://www.dataiku.com\", \n",
        "       \"display_url\": \"dataiku.com\"\n",
        "      }\n",
        "     ]\n",
        "    }, \n",
        "    \"description\": {\n",
        "     \"urls\": []\n",
        "    }\n",
        "   }, \n",
        "   \"followers_count\": 546, \n",
        "   \"profile_sidebar_border_color\": \"EEEEEE\", \n",
        "   \"id_str\": \"816825631\", \n",
        "   \"profile_background_color\": \"131516\", \n",
        "   \"listed_count\": 36, \n",
        "   \"is_translation_enabled\": false, \n",
        "   \"utc_offset\": 7200, \n",
        "   \"statuses_count\": 193, \n",
        "   \"description\": \"Data Science For Everyone\", \n",
        "   \"friends_count\": 31, \n",
        "   \"location\": \"Paris\", \n",
        "   \"profile_link_color\": \"F9AF11\", \n",
        "   \"profile_image_url\": \"http://pbs.twimg.com/profile_images/2868982526/1cc261e5ea9c8311545feea338b2959a_normal.png\", \n",
        "   \"following\": false, \n",
        "   \"geo_enabled\": false, \n",
        "   \"profile_background_image_url\": \"http://abs.twimg.com/images/themes/theme14/bg.gif\", \n",
        "   \"screen_name\": \"dataiku\", \n",
        "   \"lang\": \"en\", \n",
        "   \"profile_background_tile\": true, \n",
        "   \"favourites_count\": 38, \n",
        "   \"name\": \"Dataiku\", \n",
        "   \"notifications\": false, \n",
        "   \"url\": \"http://t.co/2W6hCFpm\", \n",
        "   \"created_at\": \"Tue Sep 11 06:27:36 +0000 2012\", \n",
        "   \"contributors_enabled\": false, \n",
        "   \"time_zone\": \"Paris\", \n",
        "   \"protected\": false, \n",
        "   \"default_profile\": false, \n",
        "   \"is_translator\": false\n",
        "  }, \n",
        "  \"geo\": null, \n",
        "  \"in_reply_to_user_id_str\": null, \n",
        "  \"possibly_sensitive\": false, \n",
        "  \"lang\": \"fr\", \n",
        "  \"created_at\": \"Mon Jun 09 12:28:52 +0000 2014\", \n",
        "  \"in_reply_to_status_id_str\": null, \n",
        "  \"place\": null, \n",
        "  \"metadata\": {\n",
        "   \"iso_language_code\": \"fr\", \n",
        "   \"result_type\": \"recent\"\n",
        "  }\n",
        " }, \n",
        " \"user\": {\n",
        "  \"follow_request_sent\": false, \n",
        "  \"profile_use_background_image\": true, \n",
        "  \"default_profile_image\": false, \n",
        "  \"id\": 2338885040, \n",
        "  \"profile_background_image_url_https\": \"https://abs.twimg.com/images/themes/theme1/bg.png\", \n",
        "  \"verified\": false, \n",
        "  \"profile_text_color\": \"333333\", \n",
        "  \"profile_image_url_https\": \"https://pbs.twimg.com/profile_images/435780786550087681/AyXZe8j__normal.jpeg\", \n",
        "  \"profile_sidebar_fill_color\": \"DDEEF6\", \n",
        "  \"entities\": {\n",
        "   \"description\": {\n",
        "    \"urls\": []\n",
        "   }\n",
        "  }, \n",
        "  \"followers_count\": 11, \n",
        "  \"profile_sidebar_border_color\": \"C0DEED\", \n",
        "  \"id_str\": \"2338885040\", \n",
        "  \"profile_background_color\": \"C0DEED\", \n",
        "  \"listed_count\": 0, \n",
        "  \"is_translation_enabled\": false, \n",
        "  \"utc_offset\": null, \n",
        "  \"statuses_count\": 15, \n",
        "  \"description\": \"#datascientist @dataiku with an #orms background\", \n",
        "  \"friends_count\": 39, \n",
        "  \"location\": \"\", \n",
        "  \"profile_link_color\": \"0084B4\", \n",
        "  \"profile_image_url\": \"http://pbs.twimg.com/profile_images/435780786550087681/AyXZe8j__normal.jpeg\", \n",
        "  \"following\": false, \n",
        "  \"geo_enabled\": false, \n",
        "  \"profile_background_image_url\": \"http://abs.twimg.com/images/themes/theme1/bg.png\", \n",
        "  \"screen_name\": \"Lpkronek\", \n",
        "  \"lang\": \"fr\", \n",
        "  \"profile_background_tile\": false, \n",
        "  \"favourites_count\": 2, \n",
        "  \"name\": \"louisphilippe kronek\", \n",
        "  \"notifications\": false, \n",
        "  \"url\": null, \n",
        "  \"created_at\": \"Tue Feb 11 19:42:01 +0000 2014\", \n",
        "  \"contributors_enabled\": false, \n",
        "  \"time_zone\": null, \n",
        "  \"protected\": false, \n",
        "  \"default_profile\": true, \n",
        "  \"is_translator\": false\n",
        " }, \n",
        " \"geo\": null, \n",
        " \"in_reply_to_user_id_str\": null, \n",
        " \"possibly_sensitive\": false, \n",
        " \"lang\": \"fr\", \n",
        " \"created_at\": \"Mon Jun 09 17:34:34 +0000 2014\", \n",
        " \"in_reply_to_status_id_str\": null, \n",
        " \"place\": null, \n",
        " \"metadata\": {\n",
        "  \"iso_language_code\": \"fr\", \n",
        "  \"result_type\": \"recent\"\n",
        " }\n",
        "}\n"
       ]
      }
     ],
     "prompt_number": 15
    },
    {
     "cell_type": "code",
     "collapsed": false,
     "input": [
      "\n",
      "\n",
      "status_texts = [ status['text'] \n",
      "                 for status in statuses ]\n",
      "\n",
      "screen_names = [ user_mention['screen_name'] \n",
      "                 for status in statuses\n",
      "                     for user_mention in status['entities']['user_mentions'] ]\n",
      "\n",
      "hashtags = [ hashtag['text'] \n",
      "             for status in statuses\n",
      "                 for hashtag in status['entities']['hashtags'] ]\n",
      "\n",
      "# Compute a collection of all words from all tweets\n",
      "words = [ w \n",
      "          for t in status_texts \n",
      "              for w in t.split() ]\n",
      "\n",
      "# Explore the first 5 items for each...\n",
      "\n",
      "print json.dumps(status_texts[0:5], indent=1)\n",
      "print json.dumps(screen_names[0:5], indent=1) \n",
      "print json.dumps(hashtags[0:5], indent=1)\n",
      "print json.dumps(words[0:5], indent=1)\n",
      "\n"
     ],
     "language": "python",
     "metadata": {},
     "outputs": [
      {
       "output_type": "stream",
       "stream": "stdout",
       "text": [
        "[\n",
        " \"RT @dataiku: Jeudi nous ouvrons nos portes, venez d\\u00e9couvrir la #DataScience et les mod\\u00e8les pr\\u00e9dictifs http://t.co/d5SmZVeA5S #Paris #startup\", \n",
        " \"Pentaho Data Science Pack simplifie l'utilisation de R et Weka  http://t.co/t9pBP1Mebc #DataScience #r\", \n",
        " \"RT @DataconomyMedia: 'Today's Big Data is Not Yesterday's Big Data' by @KirkDBorne  http://t.co/BrpJEI260a \\u2026 #bigdata #DataScience\", \n",
        " \"Presentation for Tomorrow\\u2019s Meetup: Data Visualization w/ D3.js  http://t.co/HZyPOjq0Gn #datascience #datasci #nh\", \n",
        " \"Facebook used to rig an election.  Interesting experiment and results. #mktg #datascience http://t.co/JgbxW3PuG8\"\n",
        "]\n",
        "[\n",
        " \"dataiku\", \n",
        " \"DataconomyMedia\", \n",
        " \"KirkDBorne\", \n",
        " \"plotlygraphs\", \n",
        " \"jhubiostat\"\n",
        "]\n",
        "[\n",
        " \"DataScience\", \n",
        " \"Paris\", \n",
        " \"startup\", \n",
        " \"DataScience\", \n",
        " \"r\"\n",
        "]\n",
        "[\n",
        " \"RT\", \n",
        " \"@dataiku:\", \n",
        " \"Jeudi\", \n",
        " \"nous\", \n",
        " \"ouvrons\"\n",
        "]\n"
       ]
      }
     ],
     "prompt_number": 16
    },
    {
     "cell_type": "code",
     "collapsed": false,
     "input": [
      "from collections import Counter\n",
      "\n",
      "for item in [words, screen_names, hashtags]:\n",
      "    c = Counter(item)\n",
      "    print c.most_common()[:10] # top 10\n",
      "    print\n",
      "\n"
     ],
     "language": "python",
     "metadata": {},
     "outputs": [
      {
       "output_type": "stream",
       "stream": "stdout",
       "text": [
        "[(u'#datascience', 111), (u'RT', 103), (u'#DataScience', 73), (u'the', 63), (u'to', 47), (u'Data', 44), (u'for', 44), (u'#bigdata', 37), (u'of', 36), (u'Big', 35)]\n",
        "\n",
        "[(u'KirkDBorne', 30), (u'ciro', 13), (u'kdnuggets', 12), (u'Mark_Graph', 5), (u'DsAtweet', 5), (u'DataconomyMedia', 5), (u'apanisson', 5), (u'bobfilbin', 4), (u'gopivotal', 4), (u'moorejh', 4)]\n",
        "\n",
        "[(u'datascience', 117), (u'DataScience', 81), (u'bigdata', 39), (u'BigData', 21), (u'analytics', 16), (u'dataanalytics', 13), (u'Analytics', 10), (u'data', 8), (u'compsci', 7), (u'startup', 7)]\n",
        "\n"
       ]
      }
     ],
     "prompt_number": 17
    }
   ],
   "metadata": {}
  }
 ]
}